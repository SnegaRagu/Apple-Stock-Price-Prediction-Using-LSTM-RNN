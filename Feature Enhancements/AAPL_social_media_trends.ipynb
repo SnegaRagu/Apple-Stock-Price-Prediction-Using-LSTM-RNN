{
 "cells": [
  {
   "cell_type": "markdown",
   "id": "d8eb4a41-5cc6-41a2-b94a-9791bc48d9cf",
   "metadata": {},
   "source": [
    "## Importing necessary libraries"
   ]
  },
  {
   "cell_type": "code",
   "execution_count": 1,
   "id": "d480ddfb-9beb-46cf-932a-46b8cac9ee2f",
   "metadata": {},
   "outputs": [],
   "source": [
    "import pandas as pd\n",
    "from transformers import pipeline\n",
    "from multiprocessing.dummy import Pool as ThreadPool\n",
    "\n",
    "from tqdm import tqdm"
   ]
  },
  {
   "cell_type": "markdown",
   "id": "e03bd8da-7467-47f8-8b8d-bf8b4cfe902f",
   "metadata": {},
   "source": [
    "## **Tweet dataset 1**\n",
    "\n",
    "[Kaggle Link](https://www.kaggle.com/datasets/slythe/apple-twitter-sentiment-crowdflower)"
   ]
  },
  {
   "cell_type": "code",
   "execution_count": 2,
   "id": "a9966741-c636-4233-8196-a43867b9df10",
   "metadata": {},
   "outputs": [],
   "source": [
    "df = pd.read_csv(\"socials/Apple-Twitter-Sentiment-DFE.csv\",  encoding='latin1')"
   ]
  },
  {
   "cell_type": "code",
   "execution_count": 3,
   "id": "7712b864-d11e-4db6-9ae6-43a90f20e893",
   "metadata": {},
   "outputs": [
    {
     "data": {
      "text/html": [
       "<div>\n",
       "<style scoped>\n",
       "    .dataframe tbody tr th:only-of-type {\n",
       "        vertical-align: middle;\n",
       "    }\n",
       "\n",
       "    .dataframe tbody tr th {\n",
       "        vertical-align: top;\n",
       "    }\n",
       "\n",
       "    .dataframe thead th {\n",
       "        text-align: right;\n",
       "    }\n",
       "</style>\n",
       "<table border=\"1\" class=\"dataframe\">\n",
       "  <thead>\n",
       "    <tr style=\"text-align: right;\">\n",
       "      <th></th>\n",
       "      <th>_unit_id</th>\n",
       "      <th>_golden</th>\n",
       "      <th>_unit_state</th>\n",
       "      <th>_trusted_judgments</th>\n",
       "      <th>_last_judgment_at</th>\n",
       "      <th>sentiment</th>\n",
       "      <th>sentiment:confidence</th>\n",
       "      <th>date</th>\n",
       "      <th>id</th>\n",
       "      <th>query</th>\n",
       "      <th>sentiment_gold</th>\n",
       "      <th>text</th>\n",
       "    </tr>\n",
       "  </thead>\n",
       "  <tbody>\n",
       "    <tr>\n",
       "      <th>0</th>\n",
       "      <td>623495513</td>\n",
       "      <td>True</td>\n",
       "      <td>golden</td>\n",
       "      <td>10</td>\n",
       "      <td>NaN</td>\n",
       "      <td>3</td>\n",
       "      <td>0.6264</td>\n",
       "      <td>Mon Dec 01 19:30:03 +0000 2014</td>\n",
       "      <td>5.400000e+17</td>\n",
       "      <td>#AAPL OR @Apple</td>\n",
       "      <td>3\\nnot_relevant</td>\n",
       "      <td>#AAPL:The 10 best Steve Jobs emails ever...htt...</td>\n",
       "    </tr>\n",
       "    <tr>\n",
       "      <th>1</th>\n",
       "      <td>623495514</td>\n",
       "      <td>True</td>\n",
       "      <td>golden</td>\n",
       "      <td>12</td>\n",
       "      <td>NaN</td>\n",
       "      <td>3</td>\n",
       "      <td>0.8129</td>\n",
       "      <td>Mon Dec 01 19:43:51 +0000 2014</td>\n",
       "      <td>5.400000e+17</td>\n",
       "      <td>#AAPL OR @Apple</td>\n",
       "      <td>3\\n1</td>\n",
       "      <td>RT @JPDesloges: Why AAPL Stock Had a Mini-Flas...</td>\n",
       "    </tr>\n",
       "  </tbody>\n",
       "</table>\n",
       "</div>"
      ],
      "text/plain": [
       "    _unit_id  _golden _unit_state  _trusted_judgments _last_judgment_at  \\\n",
       "0  623495513     True      golden                  10               NaN   \n",
       "1  623495514     True      golden                  12               NaN   \n",
       "\n",
       "  sentiment  sentiment:confidence                            date  \\\n",
       "0         3                0.6264  Mon Dec 01 19:30:03 +0000 2014   \n",
       "1         3                0.8129  Mon Dec 01 19:43:51 +0000 2014   \n",
       "\n",
       "             id            query   sentiment_gold  \\\n",
       "0  5.400000e+17  #AAPL OR @Apple  3\\nnot_relevant   \n",
       "1  5.400000e+17  #AAPL OR @Apple             3\\n1   \n",
       "\n",
       "                                                text  \n",
       "0  #AAPL:The 10 best Steve Jobs emails ever...htt...  \n",
       "1  RT @JPDesloges: Why AAPL Stock Had a Mini-Flas...  "
      ]
     },
     "execution_count": 3,
     "metadata": {},
     "output_type": "execute_result"
    }
   ],
   "source": [
    "df.head(2)"
   ]
  },
  {
   "cell_type": "code",
   "execution_count": 4,
   "id": "3f468076-c7f9-46f1-ab42-c60cf4836482",
   "metadata": {},
   "outputs": [],
   "source": [
    "df = df[['date', 'text']]"
   ]
  },
  {
   "cell_type": "code",
   "execution_count": 5,
   "id": "b46c096e-e077-439d-ab72-7655af5d85c1",
   "metadata": {},
   "outputs": [
    {
     "data": {
      "text/html": [
       "<div>\n",
       "<style scoped>\n",
       "    .dataframe tbody tr th:only-of-type {\n",
       "        vertical-align: middle;\n",
       "    }\n",
       "\n",
       "    .dataframe tbody tr th {\n",
       "        vertical-align: top;\n",
       "    }\n",
       "\n",
       "    .dataframe thead th {\n",
       "        text-align: right;\n",
       "    }\n",
       "</style>\n",
       "<table border=\"1\" class=\"dataframe\">\n",
       "  <thead>\n",
       "    <tr style=\"text-align: right;\">\n",
       "      <th></th>\n",
       "      <th>date</th>\n",
       "      <th>text</th>\n",
       "    </tr>\n",
       "  </thead>\n",
       "  <tbody>\n",
       "    <tr>\n",
       "      <th>0</th>\n",
       "      <td>Mon Dec 01 19:30:03 +0000 2014</td>\n",
       "      <td>#AAPL:The 10 best Steve Jobs emails ever...htt...</td>\n",
       "    </tr>\n",
       "    <tr>\n",
       "      <th>1</th>\n",
       "      <td>Mon Dec 01 19:43:51 +0000 2014</td>\n",
       "      <td>RT @JPDesloges: Why AAPL Stock Had a Mini-Flas...</td>\n",
       "    </tr>\n",
       "    <tr>\n",
       "      <th>2</th>\n",
       "      <td>Mon Dec 01 19:50:28 +0000 2014</td>\n",
       "      <td>My cat only chews @apple cords. Such an #Apple...</td>\n",
       "    </tr>\n",
       "    <tr>\n",
       "      <th>3</th>\n",
       "      <td>Mon Dec 01 20:26:34 +0000 2014</td>\n",
       "      <td>I agree with @jimcramer that the #IndividualIn...</td>\n",
       "    </tr>\n",
       "    <tr>\n",
       "      <th>4</th>\n",
       "      <td>Mon Dec 01 20:29:33 +0000 2014</td>\n",
       "      <td>Nobody expects the Spanish Inquisition #AAPL</td>\n",
       "    </tr>\n",
       "    <tr>\n",
       "      <th>...</th>\n",
       "      <td>...</td>\n",
       "      <td>...</td>\n",
       "    </tr>\n",
       "    <tr>\n",
       "      <th>3881</th>\n",
       "      <td>Tue Dec 09 22:08:53 +0000 2014</td>\n",
       "      <td>(Via FC) Apple Is Warming Up To Social Media -...</td>\n",
       "    </tr>\n",
       "    <tr>\n",
       "      <th>3882</th>\n",
       "      <td>Tue Dec 09 22:18:27 +0000 2014</td>\n",
       "      <td>RT @MMLXIV: there is no avocado emoji may I as...</td>\n",
       "    </tr>\n",
       "    <tr>\n",
       "      <th>3883</th>\n",
       "      <td>Tue Dec 09 23:45:59 +0000 2014</td>\n",
       "      <td>@marcbulandr I could not agree more. Between @...</td>\n",
       "    </tr>\n",
       "    <tr>\n",
       "      <th>3884</th>\n",
       "      <td>Wed Dec 10 00:48:10 +0000 2014</td>\n",
       "      <td>My iPhone 5's photos are no longer downloading...</td>\n",
       "    </tr>\n",
       "    <tr>\n",
       "      <th>3885</th>\n",
       "      <td>Tue Dec 09 09:01:25 +0000 2014</td>\n",
       "      <td>RT @SwiftKey: We're so excited to be named to ...</td>\n",
       "    </tr>\n",
       "  </tbody>\n",
       "</table>\n",
       "<p>3886 rows × 2 columns</p>\n",
       "</div>"
      ],
      "text/plain": [
       "                                date  \\\n",
       "0     Mon Dec 01 19:30:03 +0000 2014   \n",
       "1     Mon Dec 01 19:43:51 +0000 2014   \n",
       "2     Mon Dec 01 19:50:28 +0000 2014   \n",
       "3     Mon Dec 01 20:26:34 +0000 2014   \n",
       "4     Mon Dec 01 20:29:33 +0000 2014   \n",
       "...                              ...   \n",
       "3881  Tue Dec 09 22:08:53 +0000 2014   \n",
       "3882  Tue Dec 09 22:18:27 +0000 2014   \n",
       "3883  Tue Dec 09 23:45:59 +0000 2014   \n",
       "3884  Wed Dec 10 00:48:10 +0000 2014   \n",
       "3885  Tue Dec 09 09:01:25 +0000 2014   \n",
       "\n",
       "                                                   text  \n",
       "0     #AAPL:The 10 best Steve Jobs emails ever...htt...  \n",
       "1     RT @JPDesloges: Why AAPL Stock Had a Mini-Flas...  \n",
       "2     My cat only chews @apple cords. Such an #Apple...  \n",
       "3     I agree with @jimcramer that the #IndividualIn...  \n",
       "4          Nobody expects the Spanish Inquisition #AAPL  \n",
       "...                                                 ...  \n",
       "3881  (Via FC) Apple Is Warming Up To Social Media -...  \n",
       "3882  RT @MMLXIV: there is no avocado emoji may I as...  \n",
       "3883  @marcbulandr I could not agree more. Between @...  \n",
       "3884  My iPhone 5's photos are no longer downloading...  \n",
       "3885  RT @SwiftKey: We're so excited to be named to ...  \n",
       "\n",
       "[3886 rows x 2 columns]"
      ]
     },
     "execution_count": 5,
     "metadata": {},
     "output_type": "execute_result"
    }
   ],
   "source": [
    "df"
   ]
  },
  {
   "cell_type": "code",
   "execution_count": 6,
   "id": "5a8787a9-923e-4688-99bf-a2291d87f730",
   "metadata": {},
   "outputs": [],
   "source": [
    "df['date'] = pd.to_datetime(df['date'], format='%a %b %d %H:%M:%S %z %Y').dt.tz_convert(None)"
   ]
  },
  {
   "cell_type": "code",
   "execution_count": 7,
   "id": "6c209cfa-112c-40e6-89e3-90956fb07c23",
   "metadata": {},
   "outputs": [
    {
     "data": {
      "text/html": [
       "<div>\n",
       "<style scoped>\n",
       "    .dataframe tbody tr th:only-of-type {\n",
       "        vertical-align: middle;\n",
       "    }\n",
       "\n",
       "    .dataframe tbody tr th {\n",
       "        vertical-align: top;\n",
       "    }\n",
       "\n",
       "    .dataframe thead th {\n",
       "        text-align: right;\n",
       "    }\n",
       "</style>\n",
       "<table border=\"1\" class=\"dataframe\">\n",
       "  <thead>\n",
       "    <tr style=\"text-align: right;\">\n",
       "      <th></th>\n",
       "      <th>date</th>\n",
       "      <th>text</th>\n",
       "    </tr>\n",
       "  </thead>\n",
       "  <tbody>\n",
       "    <tr>\n",
       "      <th>0</th>\n",
       "      <td>2014-12-01 19:30:03</td>\n",
       "      <td>#AAPL:The 10 best Steve Jobs emails ever...htt...</td>\n",
       "    </tr>\n",
       "    <tr>\n",
       "      <th>1</th>\n",
       "      <td>2014-12-01 19:43:51</td>\n",
       "      <td>RT @JPDesloges: Why AAPL Stock Had a Mini-Flas...</td>\n",
       "    </tr>\n",
       "    <tr>\n",
       "      <th>2</th>\n",
       "      <td>2014-12-01 19:50:28</td>\n",
       "      <td>My cat only chews @apple cords. Such an #Apple...</td>\n",
       "    </tr>\n",
       "    <tr>\n",
       "      <th>3</th>\n",
       "      <td>2014-12-01 20:26:34</td>\n",
       "      <td>I agree with @jimcramer that the #IndividualIn...</td>\n",
       "    </tr>\n",
       "    <tr>\n",
       "      <th>4</th>\n",
       "      <td>2014-12-01 20:29:33</td>\n",
       "      <td>Nobody expects the Spanish Inquisition #AAPL</td>\n",
       "    </tr>\n",
       "    <tr>\n",
       "      <th>...</th>\n",
       "      <td>...</td>\n",
       "      <td>...</td>\n",
       "    </tr>\n",
       "    <tr>\n",
       "      <th>3881</th>\n",
       "      <td>2014-12-09 22:08:53</td>\n",
       "      <td>(Via FC) Apple Is Warming Up To Social Media -...</td>\n",
       "    </tr>\n",
       "    <tr>\n",
       "      <th>3882</th>\n",
       "      <td>2014-12-09 22:18:27</td>\n",
       "      <td>RT @MMLXIV: there is no avocado emoji may I as...</td>\n",
       "    </tr>\n",
       "    <tr>\n",
       "      <th>3883</th>\n",
       "      <td>2014-12-09 23:45:59</td>\n",
       "      <td>@marcbulandr I could not agree more. Between @...</td>\n",
       "    </tr>\n",
       "    <tr>\n",
       "      <th>3884</th>\n",
       "      <td>2014-12-10 00:48:10</td>\n",
       "      <td>My iPhone 5's photos are no longer downloading...</td>\n",
       "    </tr>\n",
       "    <tr>\n",
       "      <th>3885</th>\n",
       "      <td>2014-12-09 09:01:25</td>\n",
       "      <td>RT @SwiftKey: We're so excited to be named to ...</td>\n",
       "    </tr>\n",
       "  </tbody>\n",
       "</table>\n",
       "<p>3886 rows × 2 columns</p>\n",
       "</div>"
      ],
      "text/plain": [
       "                    date                                               text\n",
       "0    2014-12-01 19:30:03  #AAPL:The 10 best Steve Jobs emails ever...htt...\n",
       "1    2014-12-01 19:43:51  RT @JPDesloges: Why AAPL Stock Had a Mini-Flas...\n",
       "2    2014-12-01 19:50:28  My cat only chews @apple cords. Such an #Apple...\n",
       "3    2014-12-01 20:26:34  I agree with @jimcramer that the #IndividualIn...\n",
       "4    2014-12-01 20:29:33       Nobody expects the Spanish Inquisition #AAPL\n",
       "...                  ...                                                ...\n",
       "3881 2014-12-09 22:08:53  (Via FC) Apple Is Warming Up To Social Media -...\n",
       "3882 2014-12-09 22:18:27  RT @MMLXIV: there is no avocado emoji may I as...\n",
       "3883 2014-12-09 23:45:59  @marcbulandr I could not agree more. Between @...\n",
       "3884 2014-12-10 00:48:10  My iPhone 5's photos are no longer downloading...\n",
       "3885 2014-12-09 09:01:25  RT @SwiftKey: We're so excited to be named to ...\n",
       "\n",
       "[3886 rows x 2 columns]"
      ]
     },
     "execution_count": 7,
     "metadata": {},
     "output_type": "execute_result"
    }
   ],
   "source": [
    "df"
   ]
  },
  {
   "cell_type": "code",
   "execution_count": 8,
   "id": "9079f317-e841-48d9-9b8a-bddb0cb78a94",
   "metadata": {},
   "outputs": [
    {
     "data": {
      "text/plain": [
       "10"
      ]
     },
     "execution_count": 8,
     "metadata": {},
     "output_type": "execute_result"
    }
   ],
   "source": [
    "df['date'].dt.date.nunique()"
   ]
  },
  {
   "cell_type": "code",
   "execution_count": 9,
   "id": "56687f9b-0a3e-4d3e-8ca8-5d70dca22b02",
   "metadata": {},
   "outputs": [
    {
     "data": {
      "text/html": [
       "<div>\n",
       "<style scoped>\n",
       "    .dataframe tbody tr th:only-of-type {\n",
       "        vertical-align: middle;\n",
       "    }\n",
       "\n",
       "    .dataframe tbody tr th {\n",
       "        vertical-align: top;\n",
       "    }\n",
       "\n",
       "    .dataframe thead th {\n",
       "        text-align: right;\n",
       "    }\n",
       "</style>\n",
       "<table border=\"1\" class=\"dataframe\">\n",
       "  <thead>\n",
       "    <tr style=\"text-align: right;\">\n",
       "      <th></th>\n",
       "      <th>date</th>\n",
       "      <th>text</th>\n",
       "    </tr>\n",
       "  </thead>\n",
       "  <tbody>\n",
       "    <tr>\n",
       "      <th>0</th>\n",
       "      <td>2014-12-01 19:30:03</td>\n",
       "      <td>#AAPL:The 10 best Steve Jobs emails ever...htt...</td>\n",
       "    </tr>\n",
       "    <tr>\n",
       "      <th>1</th>\n",
       "      <td>2014-12-01 19:43:51</td>\n",
       "      <td>RT @JPDesloges: Why AAPL Stock Had a Mini-Flas...</td>\n",
       "    </tr>\n",
       "    <tr>\n",
       "      <th>2</th>\n",
       "      <td>2014-12-01 19:50:28</td>\n",
       "      <td>My cat only chews @apple cords. Such an #Apple...</td>\n",
       "    </tr>\n",
       "    <tr>\n",
       "      <th>3</th>\n",
       "      <td>2014-12-01 20:26:34</td>\n",
       "      <td>I agree with @jimcramer that the #IndividualIn...</td>\n",
       "    </tr>\n",
       "    <tr>\n",
       "      <th>4</th>\n",
       "      <td>2014-12-01 20:29:33</td>\n",
       "      <td>Nobody expects the Spanish Inquisition #AAPL</td>\n",
       "    </tr>\n",
       "    <tr>\n",
       "      <th>...</th>\n",
       "      <td>...</td>\n",
       "      <td>...</td>\n",
       "    </tr>\n",
       "    <tr>\n",
       "      <th>3881</th>\n",
       "      <td>2014-12-09 22:08:53</td>\n",
       "      <td>(Via FC) Apple Is Warming Up To Social Media -...</td>\n",
       "    </tr>\n",
       "    <tr>\n",
       "      <th>3882</th>\n",
       "      <td>2014-12-09 22:18:27</td>\n",
       "      <td>RT @MMLXIV: there is no avocado emoji may I as...</td>\n",
       "    </tr>\n",
       "    <tr>\n",
       "      <th>3883</th>\n",
       "      <td>2014-12-09 23:45:59</td>\n",
       "      <td>@marcbulandr I could not agree more. Between @...</td>\n",
       "    </tr>\n",
       "    <tr>\n",
       "      <th>3884</th>\n",
       "      <td>2014-12-10 00:48:10</td>\n",
       "      <td>My iPhone 5's photos are no longer downloading...</td>\n",
       "    </tr>\n",
       "    <tr>\n",
       "      <th>3885</th>\n",
       "      <td>2014-12-09 09:01:25</td>\n",
       "      <td>RT @SwiftKey: We're so excited to be named to ...</td>\n",
       "    </tr>\n",
       "  </tbody>\n",
       "</table>\n",
       "<p>3886 rows × 2 columns</p>\n",
       "</div>"
      ],
      "text/plain": [
       "                    date                                               text\n",
       "0    2014-12-01 19:30:03  #AAPL:The 10 best Steve Jobs emails ever...htt...\n",
       "1    2014-12-01 19:43:51  RT @JPDesloges: Why AAPL Stock Had a Mini-Flas...\n",
       "2    2014-12-01 19:50:28  My cat only chews @apple cords. Such an #Apple...\n",
       "3    2014-12-01 20:26:34  I agree with @jimcramer that the #IndividualIn...\n",
       "4    2014-12-01 20:29:33       Nobody expects the Spanish Inquisition #AAPL\n",
       "...                  ...                                                ...\n",
       "3881 2014-12-09 22:08:53  (Via FC) Apple Is Warming Up To Social Media -...\n",
       "3882 2014-12-09 22:18:27  RT @MMLXIV: there is no avocado emoji may I as...\n",
       "3883 2014-12-09 23:45:59  @marcbulandr I could not agree more. Between @...\n",
       "3884 2014-12-10 00:48:10  My iPhone 5's photos are no longer downloading...\n",
       "3885 2014-12-09 09:01:25  RT @SwiftKey: We're so excited to be named to ...\n",
       "\n",
       "[3886 rows x 2 columns]"
      ]
     },
     "execution_count": 9,
     "metadata": {},
     "output_type": "execute_result"
    }
   ],
   "source": [
    "df"
   ]
  },
  {
   "cell_type": "markdown",
   "id": "3a3aff61-ae20-4e54-b49f-26f19ff4018b",
   "metadata": {},
   "source": [
    "## **Tweet Dataset 2**\n",
    "\n",
    "[Kaggle Link](https://www.kaggle.com/datasets/omermetinn/tweets-about-the-top-companies-from-2015-to-2020?select=Tweet.csv)"
   ]
  },
  {
   "cell_type": "code",
   "execution_count": 10,
   "id": "8baa5ff0-b610-46e2-8337-0cba8db848b8",
   "metadata": {},
   "outputs": [],
   "source": [
    "df2 = pd.read_csv(\"socials/Tweet.csv\")"
   ]
  },
  {
   "cell_type": "code",
   "execution_count": 11,
   "id": "9d4ba7d1-e1bf-4002-b8fb-cecc8cc31fe7",
   "metadata": {},
   "outputs": [
    {
     "data": {
      "text/html": [
       "<div>\n",
       "<style scoped>\n",
       "    .dataframe tbody tr th:only-of-type {\n",
       "        vertical-align: middle;\n",
       "    }\n",
       "\n",
       "    .dataframe tbody tr th {\n",
       "        vertical-align: top;\n",
       "    }\n",
       "\n",
       "    .dataframe thead th {\n",
       "        text-align: right;\n",
       "    }\n",
       "</style>\n",
       "<table border=\"1\" class=\"dataframe\">\n",
       "  <thead>\n",
       "    <tr style=\"text-align: right;\">\n",
       "      <th></th>\n",
       "      <th>tweet_id</th>\n",
       "      <th>writer</th>\n",
       "      <th>post_date</th>\n",
       "      <th>body</th>\n",
       "      <th>comment_num</th>\n",
       "      <th>retweet_num</th>\n",
       "      <th>like_num</th>\n",
       "    </tr>\n",
       "  </thead>\n",
       "  <tbody>\n",
       "    <tr>\n",
       "      <th>0</th>\n",
       "      <td>550441509175443456</td>\n",
       "      <td>VisualStockRSRC</td>\n",
       "      <td>1420070457</td>\n",
       "      <td>lx21 made $10,008  on $AAPL -Check it out! htt...</td>\n",
       "      <td>0</td>\n",
       "      <td>0</td>\n",
       "      <td>1</td>\n",
       "    </tr>\n",
       "    <tr>\n",
       "      <th>1</th>\n",
       "      <td>550441672312512512</td>\n",
       "      <td>KeralaGuy77</td>\n",
       "      <td>1420070496</td>\n",
       "      <td>Insanity of today weirdo massive selling. $aap...</td>\n",
       "      <td>0</td>\n",
       "      <td>0</td>\n",
       "      <td>0</td>\n",
       "    </tr>\n",
       "  </tbody>\n",
       "</table>\n",
       "</div>"
      ],
      "text/plain": [
       "             tweet_id           writer   post_date  \\\n",
       "0  550441509175443456  VisualStockRSRC  1420070457   \n",
       "1  550441672312512512      KeralaGuy77  1420070496   \n",
       "\n",
       "                                                body  comment_num  \\\n",
       "0  lx21 made $10,008  on $AAPL -Check it out! htt...            0   \n",
       "1  Insanity of today weirdo massive selling. $aap...            0   \n",
       "\n",
       "   retweet_num  like_num  \n",
       "0            0         1  \n",
       "1            0         0  "
      ]
     },
     "execution_count": 11,
     "metadata": {},
     "output_type": "execute_result"
    }
   ],
   "source": [
    "df2.head(2)"
   ]
  },
  {
   "cell_type": "code",
   "execution_count": 12,
   "id": "164538f8-768a-49dc-b1fb-f87fa58a45d8",
   "metadata": {},
   "outputs": [],
   "source": [
    "# Convert to datetime format\n",
    "df2['date'] = pd.to_datetime(df2['post_date'], unit='s')\n",
    "\n",
    "# Include only date and headline column\n",
    "df2 = df2[[\"date\", \"body\"]]\n",
    "\n",
    "# Renaming body column as text\n",
    "df2.rename(columns={\"body\": \"text\"}, inplace=True)"
   ]
  },
  {
   "cell_type": "code",
   "execution_count": 13,
   "id": "5caadffa-5e7a-48bd-b11f-80cbfa10045b",
   "metadata": {},
   "outputs": [],
   "source": [
    "# include only 2015-2019 dataset\n",
    "df2 = df2[df2['date'].dt.year <= 2019]"
   ]
  },
  {
   "cell_type": "code",
   "execution_count": 14,
   "id": "780478b8-7644-4173-9ea6-9a529494b470",
   "metadata": {},
   "outputs": [],
   "source": [
    "# Removing Symbols\n",
    "\n",
    "df2['text'] = df2['text'].str.replace(r'[\\$#@]', '', regex=True).str.lower()"
   ]
  },
  {
   "cell_type": "code",
   "execution_count": 15,
   "id": "89870d59-971d-4a04-a1c0-4f616f1e8cb7",
   "metadata": {},
   "outputs": [
    {
     "name": "stderr",
     "output_type": "stream",
     "text": [
      "C:\\Users\\VICTUS\\AppData\\Local\\Temp\\ipykernel_20072\\337090447.py:5: UserWarning: This pattern is interpreted as a regular expression, and has match groups. To actually get the groups, use str.extract.\n",
      "  df2 = df2[df2['text'].str.contains(keywords, case=False, na=False, regex=True)]\n"
     ]
    },
    {
     "data": {
      "text/plain": [
       "(1488176, 2)"
      ]
     },
     "execution_count": 15,
     "metadata": {},
     "output_type": "execute_result"
    }
   ],
   "source": [
    "# Filtering only apple data\n",
    "\n",
    "keywords = r'\\b(aapl|apple|iphone)\\b'\n",
    "\n",
    "df2 = df2[df2['text'].str.contains(keywords, case=False, na=False, regex=True)]\n",
    "\n",
    "df2.shape"
   ]
  },
  {
   "cell_type": "code",
   "execution_count": 16,
   "id": "92366b14-4db6-4df8-85af-4a076b63adf0",
   "metadata": {},
   "outputs": [
    {
     "data": {
      "text/html": [
       "<div>\n",
       "<style scoped>\n",
       "    .dataframe tbody tr th:only-of-type {\n",
       "        vertical-align: middle;\n",
       "    }\n",
       "\n",
       "    .dataframe tbody tr th {\n",
       "        vertical-align: top;\n",
       "    }\n",
       "\n",
       "    .dataframe thead th {\n",
       "        text-align: right;\n",
       "    }\n",
       "</style>\n",
       "<table border=\"1\" class=\"dataframe\">\n",
       "  <thead>\n",
       "    <tr style=\"text-align: right;\">\n",
       "      <th></th>\n",
       "      <th>date</th>\n",
       "      <th>text</th>\n",
       "    </tr>\n",
       "  </thead>\n",
       "  <tbody>\n",
       "    <tr>\n",
       "      <th>0</th>\n",
       "      <td>2015-01-01 00:00:57</td>\n",
       "      <td>lx21 made 10,008  on aapl -check it out! http:...</td>\n",
       "    </tr>\n",
       "    <tr>\n",
       "      <th>1</th>\n",
       "      <td>2015-01-01 00:01:36</td>\n",
       "      <td>insanity of today weirdo massive selling. aapl...</td>\n",
       "    </tr>\n",
       "  </tbody>\n",
       "</table>\n",
       "</div>"
      ],
      "text/plain": [
       "                 date                                               text\n",
       "0 2015-01-01 00:00:57  lx21 made 10,008  on aapl -check it out! http:...\n",
       "1 2015-01-01 00:01:36  insanity of today weirdo massive selling. aapl..."
      ]
     },
     "execution_count": 16,
     "metadata": {},
     "output_type": "execute_result"
    }
   ],
   "source": [
    "df2.head(2)"
   ]
  },
  {
   "cell_type": "code",
   "execution_count": 17,
   "id": "3c9358d2-106f-4f40-a021-47f3713453e6",
   "metadata": {},
   "outputs": [
    {
     "data": {
      "text/html": [
       "<div>\n",
       "<style scoped>\n",
       "    .dataframe tbody tr th:only-of-type {\n",
       "        vertical-align: middle;\n",
       "    }\n",
       "\n",
       "    .dataframe tbody tr th {\n",
       "        vertical-align: top;\n",
       "    }\n",
       "\n",
       "    .dataframe thead th {\n",
       "        text-align: right;\n",
       "    }\n",
       "</style>\n",
       "<table border=\"1\" class=\"dataframe\">\n",
       "  <thead>\n",
       "    <tr style=\"text-align: right;\">\n",
       "      <th></th>\n",
       "      <th>date</th>\n",
       "      <th>text</th>\n",
       "    </tr>\n",
       "  </thead>\n",
       "  <tbody>\n",
       "    <tr>\n",
       "      <th>3717962</th>\n",
       "      <td>2019-12-31 23:55:37</td>\n",
       "      <td>i don't discriminate. i own both aapl and msft.</td>\n",
       "    </tr>\n",
       "    <tr>\n",
       "      <th>3717963</th>\n",
       "      <td>2019-12-31 23:55:53</td>\n",
       "      <td>aapl patent 10,522,475 vertical interconnects ...</td>\n",
       "    </tr>\n",
       "  </tbody>\n",
       "</table>\n",
       "</div>"
      ],
      "text/plain": [
       "                       date                                               text\n",
       "3717962 2019-12-31 23:55:37   i don't discriminate. i own both aapl and msft. \n",
       "3717963 2019-12-31 23:55:53  aapl patent 10,522,475 vertical interconnects ..."
      ]
     },
     "execution_count": 17,
     "metadata": {},
     "output_type": "execute_result"
    }
   ],
   "source": [
    "df2 = df2.reset_index(drop=True)\n",
    "df2.tail(2)"
   ]
  },
  {
   "cell_type": "code",
   "execution_count": 18,
   "id": "9b26f241-4af8-4ff4-ad72-612ad92a68af",
   "metadata": {},
   "outputs": [
    {
     "data": {
      "text/plain": [
       "1826"
      ]
     },
     "execution_count": 18,
     "metadata": {},
     "output_type": "execute_result"
    }
   ],
   "source": [
    "df2['date'].dt.date.nunique()"
   ]
  },
  {
   "cell_type": "markdown",
   "id": "4ee1bfad-7475-408f-b34d-3b976ebe741e",
   "metadata": {},
   "source": [
    "## **Reddit Dataset - 3**\n",
    "\n",
    "[Kaggle Link](https://www.kaggle.com/datasets/pavellexyr/five-years-of-aapl-on-reddit?select=five-years-of-aapl-on-reddit-comments.csv)"
   ]
  },
  {
   "cell_type": "code",
   "execution_count": 10,
   "id": "0209a799-7fdb-4113-8873-cf33c985e495",
   "metadata": {},
   "outputs": [],
   "source": [
    "df3 = pd.read_csv(\"socials/five-years-of-aapl-on-reddit-comments.csv\")"
   ]
  },
  {
   "cell_type": "code",
   "execution_count": 11,
   "id": "18e236ee-b7e3-4bf4-816e-07c56c9aadb6",
   "metadata": {},
   "outputs": [
    {
     "data": {
      "text/html": [
       "<div>\n",
       "<style scoped>\n",
       "    .dataframe tbody tr th:only-of-type {\n",
       "        vertical-align: middle;\n",
       "    }\n",
       "\n",
       "    .dataframe tbody tr th {\n",
       "        vertical-align: top;\n",
       "    }\n",
       "\n",
       "    .dataframe thead th {\n",
       "        text-align: right;\n",
       "    }\n",
       "</style>\n",
       "<table border=\"1\" class=\"dataframe\">\n",
       "  <thead>\n",
       "    <tr style=\"text-align: right;\">\n",
       "      <th></th>\n",
       "      <th>type</th>\n",
       "      <th>id</th>\n",
       "      <th>subreddit.id</th>\n",
       "      <th>subreddit.name</th>\n",
       "      <th>subreddit.nsfw</th>\n",
       "      <th>created_utc</th>\n",
       "      <th>permalink</th>\n",
       "      <th>body</th>\n",
       "      <th>sentiment</th>\n",
       "      <th>score</th>\n",
       "    </tr>\n",
       "  </thead>\n",
       "  <tbody>\n",
       "    <tr>\n",
       "      <th>0</th>\n",
       "      <td>comment</td>\n",
       "      <td>hitr97r</td>\n",
       "      <td>2qjfk</td>\n",
       "      <td>stocks</td>\n",
       "      <td>False</td>\n",
       "      <td>1635724579</td>\n",
       "      <td>https://old.reddit.com/r/stocks/comments/qjvo1...</td>\n",
       "      <td>I own all 3.  Don't sell AAPL.</td>\n",
       "      <td>0.00</td>\n",
       "      <td>1</td>\n",
       "    </tr>\n",
       "    <tr>\n",
       "      <th>1</th>\n",
       "      <td>comment</td>\n",
       "      <td>hitq83x</td>\n",
       "      <td>2qjfk</td>\n",
       "      <td>stocks</td>\n",
       "      <td>False</td>\n",
       "      <td>1635724042</td>\n",
       "      <td>https://old.reddit.com/r/stocks/comments/qj07j...</td>\n",
       "      <td>I believe TSLA want to be like AAPL: part hard...</td>\n",
       "      <td>-0.25</td>\n",
       "      <td>2</td>\n",
       "    </tr>\n",
       "  </tbody>\n",
       "</table>\n",
       "</div>"
      ],
      "text/plain": [
       "      type       id subreddit.id subreddit.name  subreddit.nsfw  created_utc  \\\n",
       "0  comment  hitr97r        2qjfk         stocks           False   1635724579   \n",
       "1  comment  hitq83x        2qjfk         stocks           False   1635724042   \n",
       "\n",
       "                                           permalink  \\\n",
       "0  https://old.reddit.com/r/stocks/comments/qjvo1...   \n",
       "1  https://old.reddit.com/r/stocks/comments/qj07j...   \n",
       "\n",
       "                                                body  sentiment  score  \n",
       "0                     I own all 3.  Don't sell AAPL.       0.00      1  \n",
       "1  I believe TSLA want to be like AAPL: part hard...      -0.25      2  "
      ]
     },
     "execution_count": 11,
     "metadata": {},
     "output_type": "execute_result"
    }
   ],
   "source": [
    "df3.head(2)"
   ]
  },
  {
   "cell_type": "code",
   "execution_count": 12,
   "id": "35a79aed-84a7-4f05-82cd-6083a2a5330b",
   "metadata": {},
   "outputs": [],
   "source": [
    "# Convert to datetime format\n",
    "df3['date'] = pd.to_datetime(df3['created_utc'], unit='s')\n",
    "\n",
    "# Include only date and headline column\n",
    "df3 = df3[[\"date\", \"body\"]]\n",
    "\n",
    "# Renaming body column as text\n",
    "df3.rename(columns={\"body\": \"text\"}, inplace=True)"
   ]
  },
  {
   "cell_type": "code",
   "execution_count": 13,
   "id": "501b4e12-691b-4712-baf4-a9c7b0af688d",
   "metadata": {},
   "outputs": [],
   "source": [
    "# include only 2016-2019 dataset\n",
    "df3 = df3[df3['date'].dt.year <= 2019]"
   ]
  },
  {
   "cell_type": "code",
   "execution_count": 14,
   "id": "a34e0ffc-f4e7-482b-993f-a885d50420e9",
   "metadata": {},
   "outputs": [
    {
     "data": {
      "text/html": [
       "<div>\n",
       "<style scoped>\n",
       "    .dataframe tbody tr th:only-of-type {\n",
       "        vertical-align: middle;\n",
       "    }\n",
       "\n",
       "    .dataframe tbody tr th {\n",
       "        vertical-align: top;\n",
       "    }\n",
       "\n",
       "    .dataframe thead th {\n",
       "        text-align: right;\n",
       "    }\n",
       "</style>\n",
       "<table border=\"1\" class=\"dataframe\">\n",
       "  <thead>\n",
       "    <tr style=\"text-align: right;\">\n",
       "      <th></th>\n",
       "      <th>date</th>\n",
       "      <th>text</th>\n",
       "    </tr>\n",
       "  </thead>\n",
       "  <tbody>\n",
       "    <tr>\n",
       "      <th>297531</th>\n",
       "      <td>2016-11-01 03:00:35</td>\n",
       "      <td>Microsoft's growth opportunity has nothing to ...</td>\n",
       "    </tr>\n",
       "    <tr>\n",
       "      <th>297532</th>\n",
       "      <td>2016-11-01 02:00:05</td>\n",
       "      <td>I'm a landman. AAPL-RPL.  You can counter (and...</td>\n",
       "    </tr>\n",
       "  </tbody>\n",
       "</table>\n",
       "</div>"
      ],
      "text/plain": [
       "                      date                                               text\n",
       "297531 2016-11-01 03:00:35  Microsoft's growth opportunity has nothing to ...\n",
       "297532 2016-11-01 02:00:05  I'm a landman. AAPL-RPL.  You can counter (and..."
      ]
     },
     "execution_count": 14,
     "metadata": {},
     "output_type": "execute_result"
    }
   ],
   "source": [
    "df3.reset_index(drop=True)\n",
    "df3.tail(2)"
   ]
  },
  {
   "cell_type": "code",
   "execution_count": 15,
   "id": "6e66463f-be49-4a73-8d48-0d22c171c99b",
   "metadata": {},
   "outputs": [
    {
     "data": {
      "text/plain": [
       "1155"
      ]
     },
     "execution_count": 15,
     "metadata": {},
     "output_type": "execute_result"
    }
   ],
   "source": [
    "df3['date'].dt.date.nunique()"
   ]
  },
  {
   "cell_type": "markdown",
   "id": "4c1a91be-85e4-4a16-b32f-5e97178fb18c",
   "metadata": {},
   "source": [
    "# **FinBERT Transformer model for social sentiment analysis**"
   ]
  },
  {
   "cell_type": "code",
   "execution_count": 16,
   "id": "71c0f507-9da6-4bb2-b406-9c3282339744",
   "metadata": {},
   "outputs": [
    {
     "name": "stdout",
     "output_type": "stream",
     "text": [
      "Using device: cuda:0\n"
     ]
    }
   ],
   "source": [
    "import torch\n",
    "\n",
    "# Use GPU if available, otherwise CPU\n",
    "device = torch.device(\"cuda:0\" if torch.cuda.is_available() else \"cpu\")\n",
    "print(\"Using device:\", device)"
   ]
  },
  {
   "cell_type": "code",
   "execution_count": 17,
   "id": "c2565aa7-94f2-48cd-9626-64ab85111601",
   "metadata": {},
   "outputs": [
    {
     "name": "stderr",
     "output_type": "stream",
     "text": [
      "Device set to use cuda:0\n"
     ]
    }
   ],
   "source": [
    "# LOAD FINBERT MODEL\n",
    "\n",
    "from transformers import AutoTokenizer, AutoModelForSequenceClassification, pipeline\n",
    "\n",
    "model_name = \"yiyanghkust/finbert-tone\"\n",
    "tokenizer = AutoTokenizer.from_pretrained(model_name)\n",
    "model = AutoModelForSequenceClassification.from_pretrained(model_name)\n",
    "\n",
    "finbert = pipeline(\"sentiment-analysis\", model=model, device=device, tokenizer=tokenizer, truncation=True, max_length=512)"
   ]
  },
  {
   "cell_type": "code",
   "execution_count": 18,
   "id": "f2bc08a0-f3c1-4d45-bed1-6196dc2643dc",
   "metadata": {},
   "outputs": [],
   "source": [
    "# === Process in batches ===\n",
    "def batch_inference(texts, model_pipeline, batch_size=32):\n",
    "    results = []\n",
    "    for i in tqdm(range(0, len(texts), batch_size), desc=\"Processing batches\"):\n",
    "        batch = texts[i:i + batch_size]\n",
    "        batch_results = model_pipeline(batch)\n",
    "        results.extend(batch_results)\n",
    "    return results"
   ]
  },
  {
   "cell_type": "code",
   "execution_count": 19,
   "id": "2f6e44b2-7502-47b7-a279-3c7c7a72fd38",
   "metadata": {},
   "outputs": [
    {
     "name": "stderr",
     "output_type": "stream",
     "text": [
      "You seem to be using the pipelines sequentially on GPU. In order to maximize efficiency please use a dataset  2.09s/it]\n",
      "Processing batches: 100%|████████████████████████████████████████████████████████████| 122/122 [02:47<00:00,  1.37s/it]\n"
     ]
    }
   ],
   "source": [
    "# For dataset 1\n",
    "texts = df['text'].astype(str).tolist()\n",
    "\n",
    "results = batch_inference(texts, finbert, batch_size=32)\n",
    "\n",
    "# If you want to split labels and scores\n",
    "labels = [r['label'] for r in results]\n",
    "scores = [r['score'] for r in results]\n",
    "\n",
    "df['sentiment_label'] = labels\n",
    "df['social_sentiment'] = scores"
   ]
  },
  {
   "cell_type": "code",
   "execution_count": null,
   "id": "0db9e1ad-9b73-4505-b700-b9401c173a47",
   "metadata": {},
   "outputs": [
    {
     "name": "stderr",
     "output_type": "stream",
     "text": [
      "Processing batches:  11%|██████▏                                               | 5298/46506 [54:18<16:48:05,  1.47s/it]"
     ]
    }
   ],
   "source": [
    "# For dataset 2\n",
    "texts = df2['text'].astype(str).tolist()\n",
    "\n",
    "results = batch_inference(texts, finbert, batch_size=32)\n",
    "\n",
    "# If you want to split labels and scores\n",
    "labels = [r['label'] for r in results]\n",
    "scores = [r['score'] for r in results]\n",
    "\n",
    "df2['sentiment_label'] = labels\n",
    "df2['social_sentiment'] = scores"
   ]
  },
  {
   "cell_type": "code",
   "execution_count": 20,
   "id": "796e3231-9ce1-4305-b758-20c7adacd02f",
   "metadata": {},
   "outputs": [
    {
     "name": "stderr",
     "output_type": "stream",
     "text": [
      "Processing batches: 100%|██████████████████████████████████████████████████████████| 1810/1810 [43:53<00:00,  1.45s/it]\n"
     ]
    }
   ],
   "source": [
    "# For dataset 3\n",
    "texts = df3['text'].astype(str).tolist()\n",
    "\n",
    "results = batch_inference(texts, finbert, batch_size=32)\n",
    "\n",
    "# If you want to split labels and scores\n",
    "labels = [r['label'] for r in results]\n",
    "scores = [r['score'] for r in results]\n",
    "\n",
    "df3['sentiment_label'] = labels\n",
    "df3['social_sentiment'] = scores"
   ]
  },
  {
   "cell_type": "markdown",
   "id": "a1284abf-3746-4fc0-b0c0-cc07817bdcc9",
   "metadata": {},
   "source": [
    "## **Merging Social Trend Datasets**"
   ]
  },
  {
   "cell_type": "code",
   "execution_count": 21,
   "id": "3f11aeb2-8cbe-45ea-be1d-108a2ecbbe5e",
   "metadata": {},
   "outputs": [],
   "source": [
    "final = pd.concat([df, df3])"
   ]
  },
  {
   "cell_type": "code",
   "execution_count": 23,
   "id": "d7887461-be12-4416-881c-06a6b1011604",
   "metadata": {},
   "outputs": [
    {
     "data": {
      "text/plain": [
       "(61776, 4)"
      ]
     },
     "execution_count": 23,
     "metadata": {},
     "output_type": "execute_result"
    }
   ],
   "source": [
    "final.shape"
   ]
  },
  {
   "cell_type": "code",
   "execution_count": 24,
   "id": "10781880-bd0e-4a73-b49c-48d2329708a4",
   "metadata": {},
   "outputs": [],
   "source": [
    "final = final.sort_values(by='date', ascending=True).reset_index(drop=True)"
   ]
  },
  {
   "cell_type": "code",
   "execution_count": 25,
   "id": "0d844bed-f0cb-4d45-a60a-274f7b12fa2f",
   "metadata": {},
   "outputs": [
    {
     "data": {
      "text/plain": [
       "sentiment_label\n",
       "Neutral     46574\n",
       "Positive     8603\n",
       "Negative     6599\n",
       "Name: count, dtype: int64"
      ]
     },
     "execution_count": 25,
     "metadata": {},
     "output_type": "execute_result"
    }
   ],
   "source": [
    "final['sentiment_label'].value_counts()"
   ]
  },
  {
   "cell_type": "code",
   "execution_count": 26,
   "id": "83194891-fce0-413f-a233-4ec903a0eec4",
   "metadata": {},
   "outputs": [],
   "source": [
    "final.to_csv(\"Datasets/finbert_socials_extracted_sentiment.csv\")"
   ]
  },
  {
   "cell_type": "code",
   "execution_count": 27,
   "id": "01cbb86f-7e67-4967-a713-bbcba9a95610",
   "metadata": {},
   "outputs": [],
   "source": [
    "final['date_only'] = final['date'].dt.date"
   ]
  },
  {
   "cell_type": "code",
   "execution_count": 28,
   "id": "0b0dabdc-4f9d-405f-8f14-a882f5198e4c",
   "metadata": {},
   "outputs": [
    {
     "data": {
      "text/html": [
       "<div>\n",
       "<style scoped>\n",
       "    .dataframe tbody tr th:only-of-type {\n",
       "        vertical-align: middle;\n",
       "    }\n",
       "\n",
       "    .dataframe tbody tr th {\n",
       "        vertical-align: top;\n",
       "    }\n",
       "\n",
       "    .dataframe thead th {\n",
       "        text-align: right;\n",
       "    }\n",
       "</style>\n",
       "<table border=\"1\" class=\"dataframe\">\n",
       "  <thead>\n",
       "    <tr style=\"text-align: right;\">\n",
       "      <th></th>\n",
       "      <th>date</th>\n",
       "      <th>text</th>\n",
       "      <th>sentiment_label</th>\n",
       "      <th>social_sentiment</th>\n",
       "      <th>date_only</th>\n",
       "    </tr>\n",
       "  </thead>\n",
       "  <tbody>\n",
       "    <tr>\n",
       "      <th>0</th>\n",
       "      <td>2014-12-01 19:30:03</td>\n",
       "      <td>#AAPL:The 10 best Steve Jobs emails ever...htt...</td>\n",
       "      <td>Neutral</td>\n",
       "      <td>0.977165</td>\n",
       "      <td>2014-12-01</td>\n",
       "    </tr>\n",
       "    <tr>\n",
       "      <th>1</th>\n",
       "      <td>2014-12-01 19:43:51</td>\n",
       "      <td>RT @JPDesloges: Why AAPL Stock Had a Mini-Flas...</td>\n",
       "      <td>Neutral</td>\n",
       "      <td>0.975126</td>\n",
       "      <td>2014-12-01</td>\n",
       "    </tr>\n",
       "  </tbody>\n",
       "</table>\n",
       "</div>"
      ],
      "text/plain": [
       "                 date                                               text  \\\n",
       "0 2014-12-01 19:30:03  #AAPL:The 10 best Steve Jobs emails ever...htt...   \n",
       "1 2014-12-01 19:43:51  RT @JPDesloges: Why AAPL Stock Had a Mini-Flas...   \n",
       "\n",
       "  sentiment_label  social_sentiment   date_only  \n",
       "0         Neutral          0.977165  2014-12-01  \n",
       "1         Neutral          0.975126  2014-12-01  "
      ]
     },
     "execution_count": 28,
     "metadata": {},
     "output_type": "execute_result"
    }
   ],
   "source": [
    "final.head(2)"
   ]
  },
  {
   "cell_type": "code",
   "execution_count": 29,
   "id": "94abe697-874e-48e4-9654-74b65d955dfc",
   "metadata": {},
   "outputs": [],
   "source": [
    "daily_avg_socials = final.groupby('date_only')['social_sentiment'].mean().reset_index()"
   ]
  },
  {
   "cell_type": "code",
   "execution_count": 30,
   "id": "484aa431-f37a-41e8-a198-279df822d183",
   "metadata": {},
   "outputs": [
    {
     "data": {
      "text/plain": [
       "(1165, 2)"
      ]
     },
     "execution_count": 30,
     "metadata": {},
     "output_type": "execute_result"
    }
   ],
   "source": [
    "daily_avg_socials.shape"
   ]
  },
  {
   "cell_type": "code",
   "execution_count": 32,
   "id": "288292c9-5610-444e-9649-0dd9014a0699",
   "metadata": {},
   "outputs": [],
   "source": [
    "daily_avg_socials.rename(columns={'date_only' : 'Date'}, inplace=True)"
   ]
  },
  {
   "cell_type": "code",
   "execution_count": 33,
   "id": "f3fc0307-9e1c-4c7c-9547-4534abd7f78a",
   "metadata": {},
   "outputs": [
    {
     "data": {
      "text/html": [
       "<div>\n",
       "<style scoped>\n",
       "    .dataframe tbody tr th:only-of-type {\n",
       "        vertical-align: middle;\n",
       "    }\n",
       "\n",
       "    .dataframe tbody tr th {\n",
       "        vertical-align: top;\n",
       "    }\n",
       "\n",
       "    .dataframe thead th {\n",
       "        text-align: right;\n",
       "    }\n",
       "</style>\n",
       "<table border=\"1\" class=\"dataframe\">\n",
       "  <thead>\n",
       "    <tr style=\"text-align: right;\">\n",
       "      <th></th>\n",
       "      <th>Date</th>\n",
       "      <th>social_sentiment</th>\n",
       "    </tr>\n",
       "  </thead>\n",
       "  <tbody>\n",
       "    <tr>\n",
       "      <th>0</th>\n",
       "      <td>2014-12-01</td>\n",
       "      <td>0.964340</td>\n",
       "    </tr>\n",
       "    <tr>\n",
       "      <th>1</th>\n",
       "      <td>2014-12-02</td>\n",
       "      <td>0.978057</td>\n",
       "    </tr>\n",
       "    <tr>\n",
       "      <th>2</th>\n",
       "      <td>2014-12-03</td>\n",
       "      <td>0.972873</td>\n",
       "    </tr>\n",
       "    <tr>\n",
       "      <th>3</th>\n",
       "      <td>2014-12-04</td>\n",
       "      <td>0.980858</td>\n",
       "    </tr>\n",
       "    <tr>\n",
       "      <th>4</th>\n",
       "      <td>2014-12-05</td>\n",
       "      <td>0.980136</td>\n",
       "    </tr>\n",
       "    <tr>\n",
       "      <th>...</th>\n",
       "      <td>...</td>\n",
       "      <td>...</td>\n",
       "    </tr>\n",
       "    <tr>\n",
       "      <th>1160</th>\n",
       "      <td>2019-12-27</td>\n",
       "      <td>0.953350</td>\n",
       "    </tr>\n",
       "    <tr>\n",
       "      <th>1161</th>\n",
       "      <td>2019-12-28</td>\n",
       "      <td>0.973798</td>\n",
       "    </tr>\n",
       "    <tr>\n",
       "      <th>1162</th>\n",
       "      <td>2019-12-29</td>\n",
       "      <td>0.953637</td>\n",
       "    </tr>\n",
       "    <tr>\n",
       "      <th>1163</th>\n",
       "      <td>2019-12-30</td>\n",
       "      <td>0.944577</td>\n",
       "    </tr>\n",
       "    <tr>\n",
       "      <th>1164</th>\n",
       "      <td>2019-12-31</td>\n",
       "      <td>0.954936</td>\n",
       "    </tr>\n",
       "  </tbody>\n",
       "</table>\n",
       "<p>1165 rows × 2 columns</p>\n",
       "</div>"
      ],
      "text/plain": [
       "            Date  social_sentiment\n",
       "0     2014-12-01          0.964340\n",
       "1     2014-12-02          0.978057\n",
       "2     2014-12-03          0.972873\n",
       "3     2014-12-04          0.980858\n",
       "4     2014-12-05          0.980136\n",
       "...          ...               ...\n",
       "1160  2019-12-27          0.953350\n",
       "1161  2019-12-28          0.973798\n",
       "1162  2019-12-29          0.953637\n",
       "1163  2019-12-30          0.944577\n",
       "1164  2019-12-31          0.954936\n",
       "\n",
       "[1165 rows x 2 columns]"
      ]
     },
     "execution_count": 33,
     "metadata": {},
     "output_type": "execute_result"
    }
   ],
   "source": [
    "daily_avg_socials"
   ]
  },
  {
   "cell_type": "code",
   "execution_count": 34,
   "id": "398f5a70-693f-4347-8d35-11e48975c589",
   "metadata": {},
   "outputs": [],
   "source": [
    "daily_avg_socials.to_csv(\"Datasets/finbert_social_sentiment.csv\")"
   ]
  }
 ],
 "metadata": {
  "kernelspec": {
   "display_name": "Python [conda env:base] *",
   "language": "python",
   "name": "conda-base-py"
  },
  "language_info": {
   "codemirror_mode": {
    "name": "ipython",
    "version": 3
   },
   "file_extension": ".py",
   "mimetype": "text/x-python",
   "name": "python",
   "nbconvert_exporter": "python",
   "pygments_lexer": "ipython3",
   "version": "3.13.5"
  }
 },
 "nbformat": 4,
 "nbformat_minor": 5
}
