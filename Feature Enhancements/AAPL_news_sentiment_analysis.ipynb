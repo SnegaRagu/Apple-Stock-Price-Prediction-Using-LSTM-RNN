{
 "cells": [
  {
   "cell_type": "markdown",
   "id": "b66a483c-6e2b-44d1-97f4-857b64ac0aa0",
   "metadata": {},
   "source": [
    "## Importing Necessary Libraries"
   ]
  },
  {
   "cell_type": "code",
   "execution_count": 1,
   "id": "f4082d02-c419-431b-8c1b-788ed8af63be",
   "metadata": {},
   "outputs": [],
   "source": [
    "import pandas as pd\n",
    "import requests\n",
    "from bs4 import BeautifulSoup\n",
    "import time\n",
    "\n",
    "from transformers import pipeline"
   ]
  },
  {
   "cell_type": "markdown",
   "id": "eae1ef40-3f47-477b-ad17-dbedb0aa7d0e",
   "metadata": {},
   "source": [
    "## **Apple News Dataset - 1**\n",
    "\n",
    "> Fetching News from Apple Website for the period 2000-2025"
   ]
  },
  {
   "cell_type": "code",
   "execution_count": 2,
   "id": "b5812714-2084-474c-af3d-72405c2b081a",
   "metadata": {},
   "outputs": [],
   "source": [
    "BASE_URL = \"https://www.apple.com\""
   ]
  },
  {
   "cell_type": "markdown",
   "id": "17ddf671-8d6d-4ca7-a6f7-b5a84bfcacd3",
   "metadata": {},
   "source": [
    "    \"\"\"Fetch a single page of Apple's newsroom archive for a given year.\"\"\""
   ]
  },
  {
   "cell_type": "code",
   "execution_count": 3,
   "id": "779b85d8-c895-45ac-b882-c2916f79b7e4",
   "metadata": {},
   "outputs": [],
   "source": [
    "def fetch_year_page(year, page=1):\n",
    "    url = f\"{BASE_URL}/newsroom/archive/{year}/\"\n",
    "    if page>1:\n",
    "        url += f\"?page={page}\"\n",
    "    headers = {\"User-Agent\": \"Mozilla/5.0 (Windows NT 10.0; Win64; x64)\"}\n",
    "    resp = requests.get(url, headers=headers)\n",
    "    if resp.status_code == 200:\n",
    "        print(f\"✅ Successfully fetched page-{page} for {year} - {url}\")\n",
    "        return resp.text\n",
    "    else:\n",
    "        print(f\"❌ Failed to fetch first page for {year} (Status {resp.status_code})\")\n",
    "        return None"
   ]
  },
  {
   "cell_type": "markdown",
   "id": "bcb667e5-c9e7-4f56-984d-3d6dd5313957",
   "metadata": {},
   "source": [
    "    \"\"\"Find total pages from the pagination element (like '1 of 9').\"\"\""
   ]
  },
  {
   "cell_type": "code",
   "execution_count": 4,
   "id": "ff6ad808-8214-4e25-96b6-0a9a9509292b",
   "metadata": {},
   "outputs": [],
   "source": [
    "def get_total_pages(soup):\n",
    "    total_span = soup.find(\"span\", class_=\"pagination-total\")\n",
    "    if total_span:\n",
    "        try:\n",
    "            total_pages = int(total_span.get_text(strip=True))\n",
    "            return total_pages\n",
    "        except:\n",
    "            pass\n",
    "    return 1"
   ]
  },
  {
   "cell_type": "markdown",
   "id": "93677cb7-03a4-42c6-b29a-d49a2f731cef",
   "metadata": {},
   "source": [
    "    \"\"\"Extract headlines, dates, and links from a single page's HTML.\"\"\""
   ]
  },
  {
   "cell_type": "code",
   "execution_count": 5,
   "id": "fbd07212-4d9e-40b9-8cf6-42707c43af82",
   "metadata": {},
   "outputs": [],
   "source": [
    "def parse_page(html, year):\n",
    "    soup = BeautifulSoup(html, \"html.parser\")\n",
    "    results = []\n",
    "\n",
    "    # Extract news items\n",
    "    for item in soup.find_all(\"a\", class_=\"result__item\"):\n",
    "        headline = item.find(\"h3\", class_=\"item__headline\").get_text(strip=True)\n",
    "        date = item.find(\"p\", class_=\"item__date\").get_text(strip=True)\n",
    "        category = item.find(\"p\", class_=\"item__category\").get_text(strip=True) if item.find(\"p\", class_=\"item__category\") else None\n",
    "        link = BASE_URL + item[\"href\"]\n",
    "\n",
    "        results.append({\"date\": date, \"category\": category, \"headline\": headline, \"url\": link})\n",
    "\n",
    "        return results, soup"
   ]
  },
  {
   "cell_type": "code",
   "execution_count": 6,
   "id": "25c51e63-5590-4813-bade-1224f7704ef3",
   "metadata": {},
   "outputs": [],
   "source": [
    "def scrape_apple_newsroom(start_year=2000, end_year=2001):\n",
    "    all_results = []\n",
    "    for year in range(start_year, end_year + 1):\n",
    "        print(f\"\\n🔍 Processing year: {year}\")\n",
    "        \n",
    "        # 1️⃣ Fetch first page\n",
    "        html = fetch_year_page(year, page=1)\n",
    "        if not html:\n",
    "            print(f\"⚠️ Failed to fetch year {year}, skipping.\")\n",
    "            continue\n",
    "        \n",
    "        page_results, soup = parse_page(html, year)\n",
    "        all_results.extend(page_results)\n",
    "        \n",
    "        # 2️⃣ Find total number of pages from \"1 of N\"\n",
    "        total_pages = get_total_pages(soup)\n",
    "        print(f\"📄 Total pages for {year}: {total_pages}\")\n",
    "        \n",
    "        # 3️⃣ Iterate remaining pages\n",
    "        for page in range(2, total_pages + 1):\n",
    "            time.sleep(1)\n",
    "            html = fetch_year_page(year, page)\n",
    "            if not html:\n",
    "                print(f\"⚠️ Failed to fetch page {page} for {year}, stopping.\")\n",
    "                break\n",
    "            page_results, _ = parse_page(html, year)\n",
    "            if not page_results:\n",
    "                break\n",
    "            all_results.extend(page_results)\n",
    "            \n",
    "    print(f\"\\n🎯 Total news items collected: {len(all_results)}\")\n",
    "    return pd.DataFrame(all_results)"
   ]
  },
  {
   "cell_type": "code",
   "execution_count": 7,
   "id": "250dc09f-089f-4a60-b4b6-fe316c06338c",
   "metadata": {},
   "outputs": [
    {
     "name": "stdout",
     "output_type": "stream",
     "text": [
      "\n",
      "🔍 Processing year: 2000\n",
      "✅ Successfully fetched page-1 for 2000 - https://www.apple.com/newsroom/archive/2000/\n",
      "📄 Total pages for 2000: 9\n",
      "✅ Successfully fetched page-2 for 2000 - https://www.apple.com/newsroom/archive/2000/?page=2\n",
      "✅ Successfully fetched page-3 for 2000 - https://www.apple.com/newsroom/archive/2000/?page=3\n",
      "✅ Successfully fetched page-4 for 2000 - https://www.apple.com/newsroom/archive/2000/?page=4\n",
      "✅ Successfully fetched page-5 for 2000 - https://www.apple.com/newsroom/archive/2000/?page=5\n",
      "✅ Successfully fetched page-6 for 2000 - https://www.apple.com/newsroom/archive/2000/?page=6\n",
      "✅ Successfully fetched page-7 for 2000 - https://www.apple.com/newsroom/archive/2000/?page=7\n",
      "✅ Successfully fetched page-8 for 2000 - https://www.apple.com/newsroom/archive/2000/?page=8\n",
      "✅ Successfully fetched page-9 for 2000 - https://www.apple.com/newsroom/archive/2000/?page=9\n",
      "\n",
      "🔍 Processing year: 2001\n",
      "✅ Successfully fetched page-1 for 2001 - https://www.apple.com/newsroom/archive/2001/\n",
      "📄 Total pages for 2001: 9\n",
      "✅ Successfully fetched page-2 for 2001 - https://www.apple.com/newsroom/archive/2001/?page=2\n",
      "✅ Successfully fetched page-3 for 2001 - https://www.apple.com/newsroom/archive/2001/?page=3\n",
      "✅ Successfully fetched page-4 for 2001 - https://www.apple.com/newsroom/archive/2001/?page=4\n",
      "✅ Successfully fetched page-5 for 2001 - https://www.apple.com/newsroom/archive/2001/?page=5\n",
      "✅ Successfully fetched page-6 for 2001 - https://www.apple.com/newsroom/archive/2001/?page=6\n",
      "✅ Successfully fetched page-7 for 2001 - https://www.apple.com/newsroom/archive/2001/?page=7\n",
      "✅ Successfully fetched page-8 for 2001 - https://www.apple.com/newsroom/archive/2001/?page=8\n",
      "✅ Successfully fetched page-9 for 2001 - https://www.apple.com/newsroom/archive/2001/?page=9\n",
      "\n",
      "🔍 Processing year: 2002\n",
      "✅ Successfully fetched page-1 for 2002 - https://www.apple.com/newsroom/archive/2002/\n",
      "📄 Total pages for 2002: 10\n",
      "✅ Successfully fetched page-2 for 2002 - https://www.apple.com/newsroom/archive/2002/?page=2\n",
      "✅ Successfully fetched page-3 for 2002 - https://www.apple.com/newsroom/archive/2002/?page=3\n",
      "✅ Successfully fetched page-4 for 2002 - https://www.apple.com/newsroom/archive/2002/?page=4\n",
      "✅ Successfully fetched page-5 for 2002 - https://www.apple.com/newsroom/archive/2002/?page=5\n",
      "✅ Successfully fetched page-6 for 2002 - https://www.apple.com/newsroom/archive/2002/?page=6\n",
      "✅ Successfully fetched page-7 for 2002 - https://www.apple.com/newsroom/archive/2002/?page=7\n",
      "✅ Successfully fetched page-8 for 2002 - https://www.apple.com/newsroom/archive/2002/?page=8\n",
      "✅ Successfully fetched page-9 for 2002 - https://www.apple.com/newsroom/archive/2002/?page=9\n",
      "✅ Successfully fetched page-10 for 2002 - https://www.apple.com/newsroom/archive/2002/?page=10\n",
      "\n",
      "🔍 Processing year: 2003\n",
      "✅ Successfully fetched page-1 for 2003 - https://www.apple.com/newsroom/archive/2003/\n",
      "📄 Total pages for 2003: 10\n",
      "✅ Successfully fetched page-2 for 2003 - https://www.apple.com/newsroom/archive/2003/?page=2\n",
      "✅ Successfully fetched page-3 for 2003 - https://www.apple.com/newsroom/archive/2003/?page=3\n",
      "✅ Successfully fetched page-4 for 2003 - https://www.apple.com/newsroom/archive/2003/?page=4\n",
      "✅ Successfully fetched page-5 for 2003 - https://www.apple.com/newsroom/archive/2003/?page=5\n",
      "✅ Successfully fetched page-6 for 2003 - https://www.apple.com/newsroom/archive/2003/?page=6\n",
      "✅ Successfully fetched page-7 for 2003 - https://www.apple.com/newsroom/archive/2003/?page=7\n",
      "✅ Successfully fetched page-8 for 2003 - https://www.apple.com/newsroom/archive/2003/?page=8\n",
      "✅ Successfully fetched page-9 for 2003 - https://www.apple.com/newsroom/archive/2003/?page=9\n",
      "✅ Successfully fetched page-10 for 2003 - https://www.apple.com/newsroom/archive/2003/?page=10\n",
      "\n",
      "🔍 Processing year: 2004\n",
      "✅ Successfully fetched page-1 for 2004 - https://www.apple.com/newsroom/archive/2004/\n",
      "📄 Total pages for 2004: 9\n",
      "✅ Successfully fetched page-2 for 2004 - https://www.apple.com/newsroom/archive/2004/?page=2\n",
      "✅ Successfully fetched page-3 for 2004 - https://www.apple.com/newsroom/archive/2004/?page=3\n",
      "✅ Successfully fetched page-4 for 2004 - https://www.apple.com/newsroom/archive/2004/?page=4\n",
      "✅ Successfully fetched page-5 for 2004 - https://www.apple.com/newsroom/archive/2004/?page=5\n",
      "✅ Successfully fetched page-6 for 2004 - https://www.apple.com/newsroom/archive/2004/?page=6\n",
      "✅ Successfully fetched page-7 for 2004 - https://www.apple.com/newsroom/archive/2004/?page=7\n",
      "✅ Successfully fetched page-8 for 2004 - https://www.apple.com/newsroom/archive/2004/?page=8\n",
      "✅ Successfully fetched page-9 for 2004 - https://www.apple.com/newsroom/archive/2004/?page=9\n",
      "\n",
      "🔍 Processing year: 2005\n",
      "✅ Successfully fetched page-1 for 2005 - https://www.apple.com/newsroom/archive/2005/\n",
      "📄 Total pages for 2005: 9\n",
      "✅ Successfully fetched page-2 for 2005 - https://www.apple.com/newsroom/archive/2005/?page=2\n",
      "✅ Successfully fetched page-3 for 2005 - https://www.apple.com/newsroom/archive/2005/?page=3\n",
      "✅ Successfully fetched page-4 for 2005 - https://www.apple.com/newsroom/archive/2005/?page=4\n",
      "✅ Successfully fetched page-5 for 2005 - https://www.apple.com/newsroom/archive/2005/?page=5\n",
      "✅ Successfully fetched page-6 for 2005 - https://www.apple.com/newsroom/archive/2005/?page=6\n",
      "✅ Successfully fetched page-7 for 2005 - https://www.apple.com/newsroom/archive/2005/?page=7\n",
      "✅ Successfully fetched page-8 for 2005 - https://www.apple.com/newsroom/archive/2005/?page=8\n",
      "✅ Successfully fetched page-9 for 2005 - https://www.apple.com/newsroom/archive/2005/?page=9\n",
      "\n",
      "🔍 Processing year: 2006\n",
      "✅ Successfully fetched page-1 for 2006 - https://www.apple.com/newsroom/archive/2006/\n",
      "📄 Total pages for 2006: 9\n",
      "✅ Successfully fetched page-2 for 2006 - https://www.apple.com/newsroom/archive/2006/?page=2\n",
      "✅ Successfully fetched page-3 for 2006 - https://www.apple.com/newsroom/archive/2006/?page=3\n",
      "✅ Successfully fetched page-4 for 2006 - https://www.apple.com/newsroom/archive/2006/?page=4\n",
      "✅ Successfully fetched page-5 for 2006 - https://www.apple.com/newsroom/archive/2006/?page=5\n",
      "✅ Successfully fetched page-6 for 2006 - https://www.apple.com/newsroom/archive/2006/?page=6\n",
      "✅ Successfully fetched page-7 for 2006 - https://www.apple.com/newsroom/archive/2006/?page=7\n",
      "✅ Successfully fetched page-8 for 2006 - https://www.apple.com/newsroom/archive/2006/?page=8\n",
      "✅ Successfully fetched page-9 for 2006 - https://www.apple.com/newsroom/archive/2006/?page=9\n",
      "\n",
      "🔍 Processing year: 2007\n",
      "✅ Successfully fetched page-1 for 2007 - https://www.apple.com/newsroom/archive/2007/\n",
      "📄 Total pages for 2007: 8\n",
      "✅ Successfully fetched page-2 for 2007 - https://www.apple.com/newsroom/archive/2007/?page=2\n",
      "✅ Successfully fetched page-3 for 2007 - https://www.apple.com/newsroom/archive/2007/?page=3\n",
      "✅ Successfully fetched page-4 for 2007 - https://www.apple.com/newsroom/archive/2007/?page=4\n",
      "✅ Successfully fetched page-5 for 2007 - https://www.apple.com/newsroom/archive/2007/?page=5\n",
      "✅ Successfully fetched page-6 for 2007 - https://www.apple.com/newsroom/archive/2007/?page=6\n",
      "✅ Successfully fetched page-7 for 2007 - https://www.apple.com/newsroom/archive/2007/?page=7\n",
      "✅ Successfully fetched page-8 for 2007 - https://www.apple.com/newsroom/archive/2007/?page=8\n",
      "\n",
      "🔍 Processing year: 2008\n",
      "✅ Successfully fetched page-1 for 2008 - https://www.apple.com/newsroom/archive/2008/\n",
      "📄 Total pages for 2008: 9\n",
      "✅ Successfully fetched page-2 for 2008 - https://www.apple.com/newsroom/archive/2008/?page=2\n",
      "✅ Successfully fetched page-3 for 2008 - https://www.apple.com/newsroom/archive/2008/?page=3\n",
      "✅ Successfully fetched page-4 for 2008 - https://www.apple.com/newsroom/archive/2008/?page=4\n",
      "✅ Successfully fetched page-5 for 2008 - https://www.apple.com/newsroom/archive/2008/?page=5\n",
      "✅ Successfully fetched page-6 for 2008 - https://www.apple.com/newsroom/archive/2008/?page=6\n",
      "✅ Successfully fetched page-7 for 2008 - https://www.apple.com/newsroom/archive/2008/?page=7\n",
      "✅ Successfully fetched page-8 for 2008 - https://www.apple.com/newsroom/archive/2008/?page=8\n",
      "✅ Successfully fetched page-9 for 2008 - https://www.apple.com/newsroom/archive/2008/?page=9\n",
      "\n",
      "🔍 Processing year: 2009\n",
      "✅ Successfully fetched page-1 for 2009 - https://www.apple.com/newsroom/archive/2009/\n",
      "📄 Total pages for 2009: 6\n",
      "✅ Successfully fetched page-2 for 2009 - https://www.apple.com/newsroom/archive/2009/?page=2\n",
      "✅ Successfully fetched page-3 for 2009 - https://www.apple.com/newsroom/archive/2009/?page=3\n",
      "✅ Successfully fetched page-4 for 2009 - https://www.apple.com/newsroom/archive/2009/?page=4\n",
      "✅ Successfully fetched page-5 for 2009 - https://www.apple.com/newsroom/archive/2009/?page=5\n",
      "✅ Successfully fetched page-6 for 2009 - https://www.apple.com/newsroom/archive/2009/?page=6\n",
      "\n",
      "🔍 Processing year: 2010\n",
      "✅ Successfully fetched page-1 for 2010 - https://www.apple.com/newsroom/archive/2010/\n",
      "📄 Total pages for 2010: 8\n",
      "✅ Successfully fetched page-2 for 2010 - https://www.apple.com/newsroom/archive/2010/?page=2\n",
      "✅ Successfully fetched page-3 for 2010 - https://www.apple.com/newsroom/archive/2010/?page=3\n",
      "✅ Successfully fetched page-4 for 2010 - https://www.apple.com/newsroom/archive/2010/?page=4\n",
      "✅ Successfully fetched page-5 for 2010 - https://www.apple.com/newsroom/archive/2010/?page=5\n",
      "✅ Successfully fetched page-6 for 2010 - https://www.apple.com/newsroom/archive/2010/?page=6\n",
      "✅ Successfully fetched page-7 for 2010 - https://www.apple.com/newsroom/archive/2010/?page=7\n",
      "✅ Successfully fetched page-8 for 2010 - https://www.apple.com/newsroom/archive/2010/?page=8\n",
      "\n",
      "🔍 Processing year: 2011\n",
      "✅ Successfully fetched page-1 for 2011 - https://www.apple.com/newsroom/archive/2011/\n",
      "📄 Total pages for 2011: 6\n",
      "✅ Successfully fetched page-2 for 2011 - https://www.apple.com/newsroom/archive/2011/?page=2\n",
      "✅ Successfully fetched page-3 for 2011 - https://www.apple.com/newsroom/archive/2011/?page=3\n",
      "✅ Successfully fetched page-4 for 2011 - https://www.apple.com/newsroom/archive/2011/?page=4\n",
      "✅ Successfully fetched page-5 for 2011 - https://www.apple.com/newsroom/archive/2011/?page=5\n",
      "✅ Successfully fetched page-6 for 2011 - https://www.apple.com/newsroom/archive/2011/?page=6\n",
      "\n",
      "🔍 Processing year: 2012\n",
      "✅ Successfully fetched page-1 for 2012 - https://www.apple.com/newsroom/archive/2012/\n",
      "📄 Total pages for 2012: 6\n",
      "✅ Successfully fetched page-2 for 2012 - https://www.apple.com/newsroom/archive/2012/?page=2\n",
      "✅ Successfully fetched page-3 for 2012 - https://www.apple.com/newsroom/archive/2012/?page=3\n",
      "✅ Successfully fetched page-4 for 2012 - https://www.apple.com/newsroom/archive/2012/?page=4\n",
      "✅ Successfully fetched page-5 for 2012 - https://www.apple.com/newsroom/archive/2012/?page=5\n",
      "✅ Successfully fetched page-6 for 2012 - https://www.apple.com/newsroom/archive/2012/?page=6\n",
      "\n",
      "🔍 Processing year: 2013\n",
      "✅ Successfully fetched page-1 for 2013 - https://www.apple.com/newsroom/archive/2013/\n",
      "📄 Total pages for 2013: 5\n",
      "✅ Successfully fetched page-2 for 2013 - https://www.apple.com/newsroom/archive/2013/?page=2\n",
      "✅ Successfully fetched page-3 for 2013 - https://www.apple.com/newsroom/archive/2013/?page=3\n",
      "✅ Successfully fetched page-4 for 2013 - https://www.apple.com/newsroom/archive/2013/?page=4\n",
      "✅ Successfully fetched page-5 for 2013 - https://www.apple.com/newsroom/archive/2013/?page=5\n",
      "\n",
      "🔍 Processing year: 2014\n",
      "✅ Successfully fetched page-1 for 2014 - https://www.apple.com/newsroom/archive/2014/\n",
      "📄 Total pages for 2014: 6\n",
      "✅ Successfully fetched page-2 for 2014 - https://www.apple.com/newsroom/archive/2014/?page=2\n",
      "✅ Successfully fetched page-3 for 2014 - https://www.apple.com/newsroom/archive/2014/?page=3\n",
      "✅ Successfully fetched page-4 for 2014 - https://www.apple.com/newsroom/archive/2014/?page=4\n",
      "✅ Successfully fetched page-5 for 2014 - https://www.apple.com/newsroom/archive/2014/?page=5\n",
      "✅ Successfully fetched page-6 for 2014 - https://www.apple.com/newsroom/archive/2014/?page=6\n",
      "\n",
      "🔍 Processing year: 2015\n",
      "✅ Successfully fetched page-1 for 2015 - https://www.apple.com/newsroom/archive/2015/\n",
      "📄 Total pages for 2015: 6\n",
      "✅ Successfully fetched page-2 for 2015 - https://www.apple.com/newsroom/archive/2015/?page=2\n",
      "✅ Successfully fetched page-3 for 2015 - https://www.apple.com/newsroom/archive/2015/?page=3\n",
      "✅ Successfully fetched page-4 for 2015 - https://www.apple.com/newsroom/archive/2015/?page=4\n",
      "✅ Successfully fetched page-5 for 2015 - https://www.apple.com/newsroom/archive/2015/?page=5\n",
      "✅ Successfully fetched page-6 for 2015 - https://www.apple.com/newsroom/archive/2015/?page=6\n",
      "\n",
      "🔍 Processing year: 2016\n",
      "✅ Successfully fetched page-1 for 2016 - https://www.apple.com/newsroom/archive/2016/\n",
      "📄 Total pages for 2016: 9\n",
      "✅ Successfully fetched page-2 for 2016 - https://www.apple.com/newsroom/archive/2016/?page=2\n",
      "✅ Successfully fetched page-3 for 2016 - https://www.apple.com/newsroom/archive/2016/?page=3\n",
      "✅ Successfully fetched page-4 for 2016 - https://www.apple.com/newsroom/archive/2016/?page=4\n",
      "✅ Successfully fetched page-5 for 2016 - https://www.apple.com/newsroom/archive/2016/?page=5\n",
      "✅ Successfully fetched page-6 for 2016 - https://www.apple.com/newsroom/archive/2016/?page=6\n",
      "✅ Successfully fetched page-7 for 2016 - https://www.apple.com/newsroom/archive/2016/?page=7\n",
      "✅ Successfully fetched page-8 for 2016 - https://www.apple.com/newsroom/archive/2016/?page=8\n",
      "✅ Successfully fetched page-9 for 2016 - https://www.apple.com/newsroom/archive/2016/?page=9\n",
      "\n",
      "🔍 Processing year: 2017\n",
      "✅ Successfully fetched page-1 for 2017 - https://www.apple.com/newsroom/archive/2017/\n",
      "📄 Total pages for 2017: 10\n",
      "✅ Successfully fetched page-2 for 2017 - https://www.apple.com/newsroom/archive/2017/?page=2\n",
      "✅ Successfully fetched page-3 for 2017 - https://www.apple.com/newsroom/archive/2017/?page=3\n",
      "✅ Successfully fetched page-4 for 2017 - https://www.apple.com/newsroom/archive/2017/?page=4\n",
      "✅ Successfully fetched page-5 for 2017 - https://www.apple.com/newsroom/archive/2017/?page=5\n",
      "✅ Successfully fetched page-6 for 2017 - https://www.apple.com/newsroom/archive/2017/?page=6\n",
      "✅ Successfully fetched page-7 for 2017 - https://www.apple.com/newsroom/archive/2017/?page=7\n",
      "✅ Successfully fetched page-8 for 2017 - https://www.apple.com/newsroom/archive/2017/?page=8\n",
      "✅ Successfully fetched page-9 for 2017 - https://www.apple.com/newsroom/archive/2017/?page=9\n",
      "✅ Successfully fetched page-10 for 2017 - https://www.apple.com/newsroom/archive/2017/?page=10\n",
      "\n",
      "🔍 Processing year: 2018\n",
      "✅ Successfully fetched page-1 for 2018 - https://www.apple.com/newsroom/archive/2018/\n",
      "📄 Total pages for 2018: 12\n",
      "✅ Successfully fetched page-2 for 2018 - https://www.apple.com/newsroom/archive/2018/?page=2\n",
      "✅ Successfully fetched page-3 for 2018 - https://www.apple.com/newsroom/archive/2018/?page=3\n",
      "✅ Successfully fetched page-4 for 2018 - https://www.apple.com/newsroom/archive/2018/?page=4\n",
      "✅ Successfully fetched page-5 for 2018 - https://www.apple.com/newsroom/archive/2018/?page=5\n",
      "✅ Successfully fetched page-6 for 2018 - https://www.apple.com/newsroom/archive/2018/?page=6\n",
      "✅ Successfully fetched page-7 for 2018 - https://www.apple.com/newsroom/archive/2018/?page=7\n",
      "✅ Successfully fetched page-8 for 2018 - https://www.apple.com/newsroom/archive/2018/?page=8\n",
      "✅ Successfully fetched page-9 for 2018 - https://www.apple.com/newsroom/archive/2018/?page=9\n",
      "✅ Successfully fetched page-10 for 2018 - https://www.apple.com/newsroom/archive/2018/?page=10\n",
      "✅ Successfully fetched page-11 for 2018 - https://www.apple.com/newsroom/archive/2018/?page=11\n",
      "✅ Successfully fetched page-12 for 2018 - https://www.apple.com/newsroom/archive/2018/?page=12\n",
      "\n",
      "🔍 Processing year: 2019\n",
      "✅ Successfully fetched page-1 for 2019 - https://www.apple.com/newsroom/archive/2019/\n",
      "📄 Total pages for 2019: 14\n",
      "✅ Successfully fetched page-2 for 2019 - https://www.apple.com/newsroom/archive/2019/?page=2\n",
      "✅ Successfully fetched page-3 for 2019 - https://www.apple.com/newsroom/archive/2019/?page=3\n",
      "✅ Successfully fetched page-4 for 2019 - https://www.apple.com/newsroom/archive/2019/?page=4\n",
      "✅ Successfully fetched page-5 for 2019 - https://www.apple.com/newsroom/archive/2019/?page=5\n",
      "✅ Successfully fetched page-6 for 2019 - https://www.apple.com/newsroom/archive/2019/?page=6\n",
      "✅ Successfully fetched page-7 for 2019 - https://www.apple.com/newsroom/archive/2019/?page=7\n",
      "✅ Successfully fetched page-8 for 2019 - https://www.apple.com/newsroom/archive/2019/?page=8\n",
      "✅ Successfully fetched page-9 for 2019 - https://www.apple.com/newsroom/archive/2019/?page=9\n",
      "✅ Successfully fetched page-10 for 2019 - https://www.apple.com/newsroom/archive/2019/?page=10\n",
      "✅ Successfully fetched page-11 for 2019 - https://www.apple.com/newsroom/archive/2019/?page=11\n",
      "✅ Successfully fetched page-12 for 2019 - https://www.apple.com/newsroom/archive/2019/?page=12\n",
      "✅ Successfully fetched page-13 for 2019 - https://www.apple.com/newsroom/archive/2019/?page=13\n",
      "✅ Successfully fetched page-14 for 2019 - https://www.apple.com/newsroom/archive/2019/?page=14\n",
      "\n",
      "🔍 Processing year: 2020\n",
      "✅ Successfully fetched page-1 for 2020 - https://www.apple.com/newsroom/archive/2020/\n",
      "📄 Total pages for 2020: 11\n",
      "✅ Successfully fetched page-2 for 2020 - https://www.apple.com/newsroom/archive/2020/?page=2\n",
      "✅ Successfully fetched page-3 for 2020 - https://www.apple.com/newsroom/archive/2020/?page=3\n",
      "✅ Successfully fetched page-4 for 2020 - https://www.apple.com/newsroom/archive/2020/?page=4\n",
      "✅ Successfully fetched page-5 for 2020 - https://www.apple.com/newsroom/archive/2020/?page=5\n",
      "✅ Successfully fetched page-6 for 2020 - https://www.apple.com/newsroom/archive/2020/?page=6\n",
      "✅ Successfully fetched page-7 for 2020 - https://www.apple.com/newsroom/archive/2020/?page=7\n",
      "✅ Successfully fetched page-8 for 2020 - https://www.apple.com/newsroom/archive/2020/?page=8\n",
      "✅ Successfully fetched page-9 for 2020 - https://www.apple.com/newsroom/archive/2020/?page=9\n",
      "✅ Successfully fetched page-10 for 2020 - https://www.apple.com/newsroom/archive/2020/?page=10\n",
      "✅ Successfully fetched page-11 for 2020 - https://www.apple.com/newsroom/archive/2020/?page=11\n",
      "\n",
      "🔍 Processing year: 2021\n",
      "✅ Successfully fetched page-1 for 2021 - https://www.apple.com/newsroom/archive/2021/\n",
      "📄 Total pages for 2021: 16\n",
      "✅ Successfully fetched page-2 for 2021 - https://www.apple.com/newsroom/archive/2021/?page=2\n",
      "✅ Successfully fetched page-3 for 2021 - https://www.apple.com/newsroom/archive/2021/?page=3\n",
      "✅ Successfully fetched page-4 for 2021 - https://www.apple.com/newsroom/archive/2021/?page=4\n",
      "✅ Successfully fetched page-5 for 2021 - https://www.apple.com/newsroom/archive/2021/?page=5\n",
      "✅ Successfully fetched page-6 for 2021 - https://www.apple.com/newsroom/archive/2021/?page=6\n",
      "✅ Successfully fetched page-7 for 2021 - https://www.apple.com/newsroom/archive/2021/?page=7\n",
      "✅ Successfully fetched page-8 for 2021 - https://www.apple.com/newsroom/archive/2021/?page=8\n",
      "✅ Successfully fetched page-9 for 2021 - https://www.apple.com/newsroom/archive/2021/?page=9\n",
      "✅ Successfully fetched page-10 for 2021 - https://www.apple.com/newsroom/archive/2021/?page=10\n",
      "✅ Successfully fetched page-11 for 2021 - https://www.apple.com/newsroom/archive/2021/?page=11\n",
      "✅ Successfully fetched page-12 for 2021 - https://www.apple.com/newsroom/archive/2021/?page=12\n",
      "✅ Successfully fetched page-13 for 2021 - https://www.apple.com/newsroom/archive/2021/?page=13\n",
      "✅ Successfully fetched page-14 for 2021 - https://www.apple.com/newsroom/archive/2021/?page=14\n",
      "✅ Successfully fetched page-15 for 2021 - https://www.apple.com/newsroom/archive/2021/?page=15\n",
      "✅ Successfully fetched page-16 for 2021 - https://www.apple.com/newsroom/archive/2021/?page=16\n",
      "\n",
      "🔍 Processing year: 2022\n",
      "✅ Successfully fetched page-1 for 2022 - https://www.apple.com/newsroom/archive/2022/\n",
      "📄 Total pages for 2022: 14\n",
      "✅ Successfully fetched page-2 for 2022 - https://www.apple.com/newsroom/archive/2022/?page=2\n",
      "✅ Successfully fetched page-3 for 2022 - https://www.apple.com/newsroom/archive/2022/?page=3\n",
      "✅ Successfully fetched page-4 for 2022 - https://www.apple.com/newsroom/archive/2022/?page=4\n",
      "✅ Successfully fetched page-5 for 2022 - https://www.apple.com/newsroom/archive/2022/?page=5\n",
      "✅ Successfully fetched page-6 for 2022 - https://www.apple.com/newsroom/archive/2022/?page=6\n",
      "✅ Successfully fetched page-7 for 2022 - https://www.apple.com/newsroom/archive/2022/?page=7\n",
      "✅ Successfully fetched page-8 for 2022 - https://www.apple.com/newsroom/archive/2022/?page=8\n",
      "✅ Successfully fetched page-9 for 2022 - https://www.apple.com/newsroom/archive/2022/?page=9\n",
      "✅ Successfully fetched page-10 for 2022 - https://www.apple.com/newsroom/archive/2022/?page=10\n",
      "✅ Successfully fetched page-11 for 2022 - https://www.apple.com/newsroom/archive/2022/?page=11\n",
      "✅ Successfully fetched page-12 for 2022 - https://www.apple.com/newsroom/archive/2022/?page=12\n",
      "✅ Successfully fetched page-13 for 2022 - https://www.apple.com/newsroom/archive/2022/?page=13\n",
      "✅ Successfully fetched page-14 for 2022 - https://www.apple.com/newsroom/archive/2022/?page=14\n",
      "\n",
      "🔍 Processing year: 2023\n",
      "✅ Successfully fetched page-1 for 2023 - https://www.apple.com/newsroom/archive/2023/\n",
      "📄 Total pages for 2023: 16\n",
      "✅ Successfully fetched page-2 for 2023 - https://www.apple.com/newsroom/archive/2023/?page=2\n",
      "✅ Successfully fetched page-3 for 2023 - https://www.apple.com/newsroom/archive/2023/?page=3\n",
      "✅ Successfully fetched page-4 for 2023 - https://www.apple.com/newsroom/archive/2023/?page=4\n",
      "✅ Successfully fetched page-5 for 2023 - https://www.apple.com/newsroom/archive/2023/?page=5\n",
      "✅ Successfully fetched page-6 for 2023 - https://www.apple.com/newsroom/archive/2023/?page=6\n",
      "✅ Successfully fetched page-7 for 2023 - https://www.apple.com/newsroom/archive/2023/?page=7\n",
      "✅ Successfully fetched page-8 for 2023 - https://www.apple.com/newsroom/archive/2023/?page=8\n",
      "✅ Successfully fetched page-9 for 2023 - https://www.apple.com/newsroom/archive/2023/?page=9\n",
      "✅ Successfully fetched page-10 for 2023 - https://www.apple.com/newsroom/archive/2023/?page=10\n",
      "✅ Successfully fetched page-11 for 2023 - https://www.apple.com/newsroom/archive/2023/?page=11\n",
      "✅ Successfully fetched page-12 for 2023 - https://www.apple.com/newsroom/archive/2023/?page=12\n",
      "✅ Successfully fetched page-13 for 2023 - https://www.apple.com/newsroom/archive/2023/?page=13\n",
      "✅ Successfully fetched page-14 for 2023 - https://www.apple.com/newsroom/archive/2023/?page=14\n",
      "✅ Successfully fetched page-15 for 2023 - https://www.apple.com/newsroom/archive/2023/?page=15\n",
      "✅ Successfully fetched page-16 for 2023 - https://www.apple.com/newsroom/archive/2023/?page=16\n",
      "\n",
      "🔍 Processing year: 2024\n",
      "✅ Successfully fetched page-1 for 2024 - https://www.apple.com/newsroom/archive/2024/\n",
      "📄 Total pages for 2024: 16\n",
      "✅ Successfully fetched page-2 for 2024 - https://www.apple.com/newsroom/archive/2024/?page=2\n",
      "✅ Successfully fetched page-3 for 2024 - https://www.apple.com/newsroom/archive/2024/?page=3\n",
      "✅ Successfully fetched page-4 for 2024 - https://www.apple.com/newsroom/archive/2024/?page=4\n",
      "✅ Successfully fetched page-5 for 2024 - https://www.apple.com/newsroom/archive/2024/?page=5\n",
      "✅ Successfully fetched page-6 for 2024 - https://www.apple.com/newsroom/archive/2024/?page=6\n",
      "✅ Successfully fetched page-7 for 2024 - https://www.apple.com/newsroom/archive/2024/?page=7\n",
      "✅ Successfully fetched page-8 for 2024 - https://www.apple.com/newsroom/archive/2024/?page=8\n",
      "✅ Successfully fetched page-9 for 2024 - https://www.apple.com/newsroom/archive/2024/?page=9\n",
      "✅ Successfully fetched page-10 for 2024 - https://www.apple.com/newsroom/archive/2024/?page=10\n",
      "✅ Successfully fetched page-11 for 2024 - https://www.apple.com/newsroom/archive/2024/?page=11\n",
      "✅ Successfully fetched page-12 for 2024 - https://www.apple.com/newsroom/archive/2024/?page=12\n",
      "✅ Successfully fetched page-13 for 2024 - https://www.apple.com/newsroom/archive/2024/?page=13\n",
      "✅ Successfully fetched page-14 for 2024 - https://www.apple.com/newsroom/archive/2024/?page=14\n",
      "✅ Successfully fetched page-15 for 2024 - https://www.apple.com/newsroom/archive/2024/?page=15\n",
      "✅ Successfully fetched page-16 for 2024 - https://www.apple.com/newsroom/archive/2024/?page=16\n",
      "\n",
      "🔍 Processing year: 2025\n",
      "✅ Successfully fetched page-1 for 2025 - https://www.apple.com/newsroom/archive/2025/\n",
      "📄 Total pages for 2025: 11\n",
      "✅ Successfully fetched page-2 for 2025 - https://www.apple.com/newsroom/archive/2025/?page=2\n",
      "✅ Successfully fetched page-3 for 2025 - https://www.apple.com/newsroom/archive/2025/?page=3\n",
      "✅ Successfully fetched page-4 for 2025 - https://www.apple.com/newsroom/archive/2025/?page=4\n",
      "✅ Successfully fetched page-5 for 2025 - https://www.apple.com/newsroom/archive/2025/?page=5\n",
      "✅ Successfully fetched page-6 for 2025 - https://www.apple.com/newsroom/archive/2025/?page=6\n",
      "✅ Successfully fetched page-7 for 2025 - https://www.apple.com/newsroom/archive/2025/?page=7\n",
      "✅ Successfully fetched page-8 for 2025 - https://www.apple.com/newsroom/archive/2025/?page=8\n",
      "✅ Successfully fetched page-9 for 2025 - https://www.apple.com/newsroom/archive/2025/?page=9\n",
      "✅ Successfully fetched page-10 for 2025 - https://www.apple.com/newsroom/archive/2025/?page=10\n",
      "✅ Successfully fetched page-11 for 2025 - https://www.apple.com/newsroom/archive/2025/?page=11\n",
      "\n",
      "🎯 Total news items collected: 254\n"
     ]
    }
   ],
   "source": [
    "df = scrape_apple_newsroom(2000, 2025)\n",
    "df.to_csv(\"news/apple_news_2000_2025.csv\", index=False)"
   ]
  },
  {
   "cell_type": "code",
   "execution_count": 8,
   "id": "1a66c209-fcd5-47c1-a4be-4a13f3057e92",
   "metadata": {},
   "outputs": [],
   "source": [
    "news = pd.read_csv(\"news/apple_news_2000_2025.csv\")"
   ]
  },
  {
   "cell_type": "code",
   "execution_count": 9,
   "id": "a2429abb-d8aa-47dc-9985-1780f8555016",
   "metadata": {},
   "outputs": [
    {
     "data": {
      "text/html": [
       "<div>\n",
       "<style scoped>\n",
       "    .dataframe tbody tr th:only-of-type {\n",
       "        vertical-align: middle;\n",
       "    }\n",
       "\n",
       "    .dataframe tbody tr th {\n",
       "        vertical-align: top;\n",
       "    }\n",
       "\n",
       "    .dataframe thead th {\n",
       "        text-align: right;\n",
       "    }\n",
       "</style>\n",
       "<table border=\"1\" class=\"dataframe\">\n",
       "  <thead>\n",
       "    <tr style=\"text-align: right;\">\n",
       "      <th></th>\n",
       "      <th>date</th>\n",
       "      <th>category</th>\n",
       "      <th>headline</th>\n",
       "      <th>url</th>\n",
       "    </tr>\n",
       "  </thead>\n",
       "  <tbody>\n",
       "    <tr>\n",
       "      <th>0</th>\n",
       "      <td>December 19, 2000</td>\n",
       "      <td>MEDIA ALERT</td>\n",
       "      <td>Apple at Macworld Expo San Francisco 2001</td>\n",
       "      <td>https://www.apple.com/newsroom/2000/12/19Apple...</td>\n",
       "    </tr>\n",
       "    <tr>\n",
       "      <th>1</th>\n",
       "      <td>October 9, 2000</td>\n",
       "      <td>PRESS RELEASE</td>\n",
       "      <td>Apple Announces Mandich’s Retirement</td>\n",
       "      <td>https://www.apple.com/newsroom/2000/10/09Apple...</td>\n",
       "    </tr>\n",
       "    <tr>\n",
       "      <th>2</th>\n",
       "      <td>August 10, 2000</td>\n",
       "      <td>PRESS RELEASE</td>\n",
       "      <td>Lucasfilm and Apple Bring Star Wars: Episode I...</td>\n",
       "      <td>https://www.apple.com/newsroom/2000/08/10Lucas...</td>\n",
       "    </tr>\n",
       "    <tr>\n",
       "      <th>3</th>\n",
       "      <td>July 19, 2000</td>\n",
       "      <td>PRESS RELEASE</td>\n",
       "      <td>Apple Unveils All New Family of Displays to Co...</td>\n",
       "      <td>https://www.apple.com/newsroom/2000/07/19Apple...</td>\n",
       "    </tr>\n",
       "    <tr>\n",
       "      <th>4</th>\n",
       "      <td>June 6, 2000</td>\n",
       "      <td>PRESS RELEASE</td>\n",
       "      <td>IDC Confirms Apple is Number One in U.S. &amp; Wor...</td>\n",
       "      <td>https://www.apple.com/newsroom/2000/06/06IDC-C...</td>\n",
       "    </tr>\n",
       "  </tbody>\n",
       "</table>\n",
       "</div>"
      ],
      "text/plain": [
       "                date       category  \\\n",
       "0  December 19, 2000    MEDIA ALERT   \n",
       "1    October 9, 2000  PRESS RELEASE   \n",
       "2    August 10, 2000  PRESS RELEASE   \n",
       "3      July 19, 2000  PRESS RELEASE   \n",
       "4       June 6, 2000  PRESS RELEASE   \n",
       "\n",
       "                                            headline  \\\n",
       "0          Apple at Macworld Expo San Francisco 2001   \n",
       "1               Apple Announces Mandich’s Retirement   \n",
       "2  Lucasfilm and Apple Bring Star Wars: Episode I...   \n",
       "3  Apple Unveils All New Family of Displays to Co...   \n",
       "4  IDC Confirms Apple is Number One in U.S. & Wor...   \n",
       "\n",
       "                                                 url  \n",
       "0  https://www.apple.com/newsroom/2000/12/19Apple...  \n",
       "1  https://www.apple.com/newsroom/2000/10/09Apple...  \n",
       "2  https://www.apple.com/newsroom/2000/08/10Lucas...  \n",
       "3  https://www.apple.com/newsroom/2000/07/19Apple...  \n",
       "4  https://www.apple.com/newsroom/2000/06/06IDC-C...  "
      ]
     },
     "execution_count": 9,
     "metadata": {},
     "output_type": "execute_result"
    }
   ],
   "source": [
    "news.head()"
   ]
  },
  {
   "cell_type": "code",
   "execution_count": 10,
   "id": "c1a1559f-1dbe-410f-ba81-ead2e2aea643",
   "metadata": {},
   "outputs": [],
   "source": [
    "news['date'] = pd.to_datetime(news['date'], format=\"%B %d, %Y\")"
   ]
  },
  {
   "cell_type": "code",
   "execution_count": 11,
   "id": "76d3fdd9-c8ca-4cd0-a3b7-4e0f437e17e0",
   "metadata": {},
   "outputs": [
    {
     "data": {
      "text/plain": [
       "True"
      ]
     },
     "execution_count": 11,
     "metadata": {},
     "output_type": "execute_result"
    }
   ],
   "source": [
    "news = news.sort_values(by='date', ascending=True).reset_index(drop=True)\n",
    "news['date'].is_monotonic_increasing"
   ]
  },
  {
   "cell_type": "code",
   "execution_count": 12,
   "id": "ada8ab44-b32c-4cdf-a01f-b6f7b7b68250",
   "metadata": {},
   "outputs": [
    {
     "data": {
      "text/html": [
       "<div>\n",
       "<style scoped>\n",
       "    .dataframe tbody tr th:only-of-type {\n",
       "        vertical-align: middle;\n",
       "    }\n",
       "\n",
       "    .dataframe tbody tr th {\n",
       "        vertical-align: top;\n",
       "    }\n",
       "\n",
       "    .dataframe thead th {\n",
       "        text-align: right;\n",
       "    }\n",
       "</style>\n",
       "<table border=\"1\" class=\"dataframe\">\n",
       "  <thead>\n",
       "    <tr style=\"text-align: right;\">\n",
       "      <th></th>\n",
       "      <th>date</th>\n",
       "      <th>category</th>\n",
       "      <th>headline</th>\n",
       "      <th>url</th>\n",
       "    </tr>\n",
       "  </thead>\n",
       "  <tbody>\n",
       "    <tr>\n",
       "      <th>0</th>\n",
       "      <td>2000-01-19</td>\n",
       "      <td>PRESS RELEASE</td>\n",
       "      <td>Apple Reports First Quarter Profit of $183 Mil...</td>\n",
       "      <td>https://www.apple.com/newsroom/2000/01/19Apple...</td>\n",
       "    </tr>\n",
       "    <tr>\n",
       "      <th>1</th>\n",
       "      <td>2000-02-29</td>\n",
       "      <td>PRESS RELEASE</td>\n",
       "      <td>Apple Introduces New Apple Learning Solutions ...</td>\n",
       "      <td>https://www.apple.com/newsroom/2000/02/29Apple...</td>\n",
       "    </tr>\n",
       "    <tr>\n",
       "      <th>2</th>\n",
       "      <td>2000-04-05</td>\n",
       "      <td>PRESS RELEASE</td>\n",
       "      <td>Apple Teams with Kanisa for e-Service</td>\n",
       "      <td>https://www.apple.com/newsroom/2000/04/05Apple...</td>\n",
       "    </tr>\n",
       "    <tr>\n",
       "      <th>3</th>\n",
       "      <td>2000-04-28</td>\n",
       "      <td>PRESS RELEASE</td>\n",
       "      <td>Apple Offers iMovie as Free Download for Power...</td>\n",
       "      <td>https://www.apple.com/newsroom/2000/04/28Apple...</td>\n",
       "    </tr>\n",
       "    <tr>\n",
       "      <th>4</th>\n",
       "      <td>2000-06-06</td>\n",
       "      <td>PRESS RELEASE</td>\n",
       "      <td>IDC Confirms Apple is Number One in U.S. &amp; Wor...</td>\n",
       "      <td>https://www.apple.com/newsroom/2000/06/06IDC-C...</td>\n",
       "    </tr>\n",
       "  </tbody>\n",
       "</table>\n",
       "</div>"
      ],
      "text/plain": [
       "        date       category  \\\n",
       "0 2000-01-19  PRESS RELEASE   \n",
       "1 2000-02-29  PRESS RELEASE   \n",
       "2 2000-04-05  PRESS RELEASE   \n",
       "3 2000-04-28  PRESS RELEASE   \n",
       "4 2000-06-06  PRESS RELEASE   \n",
       "\n",
       "                                            headline  \\\n",
       "0  Apple Reports First Quarter Profit of $183 Mil...   \n",
       "1  Apple Introduces New Apple Learning Solutions ...   \n",
       "2              Apple Teams with Kanisa for e-Service   \n",
       "3  Apple Offers iMovie as Free Download for Power...   \n",
       "4  IDC Confirms Apple is Number One in U.S. & Wor...   \n",
       "\n",
       "                                                 url  \n",
       "0  https://www.apple.com/newsroom/2000/01/19Apple...  \n",
       "1  https://www.apple.com/newsroom/2000/02/29Apple...  \n",
       "2  https://www.apple.com/newsroom/2000/04/05Apple...  \n",
       "3  https://www.apple.com/newsroom/2000/04/28Apple...  \n",
       "4  https://www.apple.com/newsroom/2000/06/06IDC-C...  "
      ]
     },
     "execution_count": 12,
     "metadata": {},
     "output_type": "execute_result"
    }
   ],
   "source": [
    "news.head()"
   ]
  },
  {
   "cell_type": "code",
   "execution_count": 13,
   "id": "f0a8fb25-cade-45d7-8497-7bc61bf0c587",
   "metadata": {},
   "outputs": [
    {
     "data": {
      "text/html": [
       "<div>\n",
       "<style scoped>\n",
       "    .dataframe tbody tr th:only-of-type {\n",
       "        vertical-align: middle;\n",
       "    }\n",
       "\n",
       "    .dataframe tbody tr th {\n",
       "        vertical-align: top;\n",
       "    }\n",
       "\n",
       "    .dataframe thead th {\n",
       "        text-align: right;\n",
       "    }\n",
       "</style>\n",
       "<table border=\"1\" class=\"dataframe\">\n",
       "  <thead>\n",
       "    <tr style=\"text-align: right;\">\n",
       "      <th></th>\n",
       "      <th>date</th>\n",
       "      <th>category</th>\n",
       "      <th>headline</th>\n",
       "      <th>url</th>\n",
       "    </tr>\n",
       "  </thead>\n",
       "  <tbody>\n",
       "    <tr>\n",
       "      <th>249</th>\n",
       "      <td>2025-06-09</td>\n",
       "      <td>PRESS RELEASE</td>\n",
       "      <td>Apple Intelligence gets even more powerful wit...</td>\n",
       "      <td>https://www.apple.com/newsroom/2025/06/apple-i...</td>\n",
       "    </tr>\n",
       "    <tr>\n",
       "      <th>250</th>\n",
       "      <td>2025-07-15</td>\n",
       "      <td>UPDATE</td>\n",
       "      <td>Apple expands U.S. supply chain with $500 mill...</td>\n",
       "      <td>https://www.apple.com/newsroom/2025/07/apple-e...</td>\n",
       "    </tr>\n",
       "    <tr>\n",
       "      <th>251</th>\n",
       "      <td>2025-08-06</td>\n",
       "      <td>PRESS RELEASE</td>\n",
       "      <td>Apple, Corning to manufacture all iPhone, Appl...</td>\n",
       "      <td>https://www.apple.com/newsroom/2025/08/apple-c...</td>\n",
       "    </tr>\n",
       "    <tr>\n",
       "      <th>252</th>\n",
       "      <td>2025-09-09</td>\n",
       "      <td>PRESS RELEASE</td>\n",
       "      <td>Apple debuts Apple Watch Series 11, featuring ...</td>\n",
       "      <td>https://www.apple.com/newsroom/2025/09/apple-d...</td>\n",
       "    </tr>\n",
       "    <tr>\n",
       "      <th>253</th>\n",
       "      <td>2025-09-19</td>\n",
       "      <td>PHOTOS</td>\n",
       "      <td>The latest iPhone, Apple Watch, and AirPods Pr...</td>\n",
       "      <td>https://www.apple.com/newsroom/2025/09/the-lat...</td>\n",
       "    </tr>\n",
       "  </tbody>\n",
       "</table>\n",
       "</div>"
      ],
      "text/plain": [
       "          date       category  \\\n",
       "249 2025-06-09  PRESS RELEASE   \n",
       "250 2025-07-15         UPDATE   \n",
       "251 2025-08-06  PRESS RELEASE   \n",
       "252 2025-09-09  PRESS RELEASE   \n",
       "253 2025-09-19         PHOTOS   \n",
       "\n",
       "                                              headline  \\\n",
       "249  Apple Intelligence gets even more powerful wit...   \n",
       "250  Apple expands U.S. supply chain with $500 mill...   \n",
       "251  Apple, Corning to manufacture all iPhone, Appl...   \n",
       "252  Apple debuts Apple Watch Series 11, featuring ...   \n",
       "253  The latest iPhone, Apple Watch, and AirPods Pr...   \n",
       "\n",
       "                                                   url  \n",
       "249  https://www.apple.com/newsroom/2025/06/apple-i...  \n",
       "250  https://www.apple.com/newsroom/2025/07/apple-e...  \n",
       "251  https://www.apple.com/newsroom/2025/08/apple-c...  \n",
       "252  https://www.apple.com/newsroom/2025/09/apple-d...  \n",
       "253  https://www.apple.com/newsroom/2025/09/the-lat...  "
      ]
     },
     "execution_count": 13,
     "metadata": {},
     "output_type": "execute_result"
    }
   ],
   "source": [
    "news.tail()"
   ]
  },
  {
   "cell_type": "code",
   "execution_count": 14,
   "id": "9aebf1f5-0913-4c6c-b6ae-1e39962a02a1",
   "metadata": {},
   "outputs": [],
   "source": [
    "news.drop(columns=[\"category\", \"url\"], inplace=True)"
   ]
  },
  {
   "cell_type": "markdown",
   "id": "045997f3-ebc9-4c75-b9ac-108b13f719c2",
   "metadata": {},
   "source": [
    "## **Apple news dataset - 2**\n",
    "\n",
    "[Kaggle Link](https://www.kaggle.com/datasets/frankossai/apple-stock-aapl-historical-financial-news-data)"
   ]
  },
  {
   "cell_type": "code",
   "execution_count": 15,
   "id": "45b6f094-6f0f-4215-9828-82e1de3bcd0d",
   "metadata": {},
   "outputs": [
    {
     "data": {
      "text/html": [
       "<div>\n",
       "<style scoped>\n",
       "    .dataframe tbody tr th:only-of-type {\n",
       "        vertical-align: middle;\n",
       "    }\n",
       "\n",
       "    .dataframe tbody tr th {\n",
       "        vertical-align: top;\n",
       "    }\n",
       "\n",
       "    .dataframe thead th {\n",
       "        text-align: right;\n",
       "    }\n",
       "</style>\n",
       "<table border=\"1\" class=\"dataframe\">\n",
       "  <thead>\n",
       "    <tr style=\"text-align: right;\">\n",
       "      <th></th>\n",
       "      <th>date</th>\n",
       "      <th>title</th>\n",
       "      <th>content</th>\n",
       "      <th>link</th>\n",
       "      <th>symbols</th>\n",
       "      <th>tags</th>\n",
       "      <th>sentiment_polarity</th>\n",
       "      <th>sentiment_neg</th>\n",
       "      <th>sentiment_neu</th>\n",
       "      <th>sentiment_pos</th>\n",
       "    </tr>\n",
       "  </thead>\n",
       "  <tbody>\n",
       "    <tr>\n",
       "      <th>0</th>\n",
       "      <td>2024-11-27T16:39:00+00:00</td>\n",
       "      <td>Berkshire Stock Hits Record Even as Company Re...</td>\n",
       "      <td>Warren Buffett’s caution, his advancing age, a...</td>\n",
       "      <td>https://finance.yahoo.com/m/f5df3aa4-364b-31d6...</td>\n",
       "      <td>0R2V.IL, AAPL.BA, AAPL.MX, AAPL.NEO, AAPL.SN, ...</td>\n",
       "      <td>NaN</td>\n",
       "      <td>0.0</td>\n",
       "      <td>0.0</td>\n",
       "      <td>1.0</td>\n",
       "      <td>0.0</td>\n",
       "    </tr>\n",
       "    <tr>\n",
       "      <th>1</th>\n",
       "      <td>2024-11-26T00:00:00+00:00</td>\n",
       "      <td>What Is a Stock Market Index?</td>\n",
       "      <td>What Is a Stock Market Index?</td>\n",
       "      <td>https://www.fool.com/investing/stock-market/in...</td>\n",
       "      <td>AAPL.US, AMZN.US, MSFT.US</td>\n",
       "      <td>NaN</td>\n",
       "      <td>0.0</td>\n",
       "      <td>0.0</td>\n",
       "      <td>1.0</td>\n",
       "      <td>0.0</td>\n",
       "    </tr>\n",
       "    <tr>\n",
       "      <th>2</th>\n",
       "      <td>2024-11-26T00:00:00+00:00</td>\n",
       "      <td>Could Investing $1,000 in Apple Make You a Mil...</td>\n",
       "      <td>Could Investing $1,000 in Apple Make You a Mil...</td>\n",
       "      <td>https://www.fool.com/investing/2024/11/26/coul...</td>\n",
       "      <td>AAPL.US</td>\n",
       "      <td>NaN</td>\n",
       "      <td>0.0</td>\n",
       "      <td>0.0</td>\n",
       "      <td>1.0</td>\n",
       "      <td>0.0</td>\n",
       "    </tr>\n",
       "    <tr>\n",
       "      <th>3</th>\n",
       "      <td>2024-11-26T00:00:00+00:00</td>\n",
       "      <td>Dow Jones Industrial Average</td>\n",
       "      <td>Dow Jones Industrial Average</td>\n",
       "      <td>https://www.fool.com/investing/stock-market/in...</td>\n",
       "      <td>AAPL.US, AMGN.US, AMZN.US, CSCO.US, GOOG.US, G...</td>\n",
       "      <td>NaN</td>\n",
       "      <td>0.0</td>\n",
       "      <td>0.0</td>\n",
       "      <td>1.0</td>\n",
       "      <td>0.0</td>\n",
       "    </tr>\n",
       "    <tr>\n",
       "      <th>4</th>\n",
       "      <td>2024-11-26T00:00:00+00:00</td>\n",
       "      <td>What Is the S&amp;P 500 Index?</td>\n",
       "      <td>What Is the S&amp;P 500 Index?</td>\n",
       "      <td>https://www.fool.com/investing/stock-market/in...</td>\n",
       "      <td>AAPL.US, AMZN.US, GOOG.US, GOOGL.US, META.US, ...</td>\n",
       "      <td>NaN</td>\n",
       "      <td>0.0</td>\n",
       "      <td>0.0</td>\n",
       "      <td>1.0</td>\n",
       "      <td>0.0</td>\n",
       "    </tr>\n",
       "  </tbody>\n",
       "</table>\n",
       "</div>"
      ],
      "text/plain": [
       "                        date  \\\n",
       "0  2024-11-27T16:39:00+00:00   \n",
       "1  2024-11-26T00:00:00+00:00   \n",
       "2  2024-11-26T00:00:00+00:00   \n",
       "3  2024-11-26T00:00:00+00:00   \n",
       "4  2024-11-26T00:00:00+00:00   \n",
       "\n",
       "                                               title  \\\n",
       "0  Berkshire Stock Hits Record Even as Company Re...   \n",
       "1                      What Is a Stock Market Index?   \n",
       "2  Could Investing $1,000 in Apple Make You a Mil...   \n",
       "3                       Dow Jones Industrial Average   \n",
       "4                         What Is the S&P 500 Index?   \n",
       "\n",
       "                                             content  \\\n",
       "0  Warren Buffett’s caution, his advancing age, a...   \n",
       "1                      What Is a Stock Market Index?   \n",
       "2  Could Investing $1,000 in Apple Make You a Mil...   \n",
       "3                       Dow Jones Industrial Average   \n",
       "4                         What Is the S&P 500 Index?   \n",
       "\n",
       "                                                link  \\\n",
       "0  https://finance.yahoo.com/m/f5df3aa4-364b-31d6...   \n",
       "1  https://www.fool.com/investing/stock-market/in...   \n",
       "2  https://www.fool.com/investing/2024/11/26/coul...   \n",
       "3  https://www.fool.com/investing/stock-market/in...   \n",
       "4  https://www.fool.com/investing/stock-market/in...   \n",
       "\n",
       "                                             symbols tags  sentiment_polarity  \\\n",
       "0  0R2V.IL, AAPL.BA, AAPL.MX, AAPL.NEO, AAPL.SN, ...  NaN                 0.0   \n",
       "1                          AAPL.US, AMZN.US, MSFT.US  NaN                 0.0   \n",
       "2                                            AAPL.US  NaN                 0.0   \n",
       "3  AAPL.US, AMGN.US, AMZN.US, CSCO.US, GOOG.US, G...  NaN                 0.0   \n",
       "4  AAPL.US, AMZN.US, GOOG.US, GOOGL.US, META.US, ...  NaN                 0.0   \n",
       "\n",
       "   sentiment_neg  sentiment_neu  sentiment_pos  \n",
       "0            0.0            1.0            0.0  \n",
       "1            0.0            1.0            0.0  \n",
       "2            0.0            1.0            0.0  \n",
       "3            0.0            1.0            0.0  \n",
       "4            0.0            1.0            0.0  "
      ]
     },
     "execution_count": 15,
     "metadata": {},
     "output_type": "execute_result"
    }
   ],
   "source": [
    "apple_ds = pd.read_csv(\"news/apple_news_data.csv\")\n",
    "apple_ds.head()"
   ]
  },
  {
   "cell_type": "code",
   "execution_count": 16,
   "id": "702ca30a-4967-46a2-8b9c-172593c931cd",
   "metadata": {},
   "outputs": [],
   "source": [
    "apple_ds['date'] = pd.to_datetime(apple_ds['date']).dt.tz_localize(None)"
   ]
  },
  {
   "cell_type": "code",
   "execution_count": 17,
   "id": "7db35bd3-0126-4a78-843a-644fc4e4d530",
   "metadata": {},
   "outputs": [],
   "source": [
    "apple_ds['headline'] = apple_ds['title']\n",
    "apple_ds['url'] = apple_ds['link']"
   ]
  },
  {
   "cell_type": "code",
   "execution_count": 18,
   "id": "9eb44a8e-2a8c-40d0-b6da-9c847cd7a2d9",
   "metadata": {},
   "outputs": [],
   "source": [
    "apple_ds.drop(columns=[\"title\", \"link\", \"tags\", \"symbols\", \"content\", \"sentiment_polarity\", \"sentiment_neg\", \"sentiment_neu\", \"sentiment_pos\"], inplace=True)"
   ]
  },
  {
   "cell_type": "code",
   "execution_count": 19,
   "id": "46ccf09c-5b44-460d-adbe-28903a42dd23",
   "metadata": {},
   "outputs": [],
   "source": [
    "apple_ds = apple_ds[apple_ds['date'].dt.year <= 2019]"
   ]
  },
  {
   "cell_type": "code",
   "execution_count": 20,
   "id": "d9eaa3a2-8660-4cf7-8ff7-149e6080ca2b",
   "metadata": {},
   "outputs": [],
   "source": [
    "apple_ds = apple_ds.reset_index(drop=True)"
   ]
  },
  {
   "cell_type": "code",
   "execution_count": 21,
   "id": "073a41d8-70e9-47e4-94fe-c4b14366ea40",
   "metadata": {},
   "outputs": [
    {
     "data": {
      "text/html": [
       "<div>\n",
       "<style scoped>\n",
       "    .dataframe tbody tr th:only-of-type {\n",
       "        vertical-align: middle;\n",
       "    }\n",
       "\n",
       "    .dataframe tbody tr th {\n",
       "        vertical-align: top;\n",
       "    }\n",
       "\n",
       "    .dataframe thead th {\n",
       "        text-align: right;\n",
       "    }\n",
       "</style>\n",
       "<table border=\"1\" class=\"dataframe\">\n",
       "  <thead>\n",
       "    <tr style=\"text-align: right;\">\n",
       "      <th></th>\n",
       "      <th>date</th>\n",
       "      <th>headline</th>\n",
       "      <th>url</th>\n",
       "    </tr>\n",
       "  </thead>\n",
       "  <tbody>\n",
       "    <tr>\n",
       "      <th>0</th>\n",
       "      <td>2019-06-16 23:10:00</td>\n",
       "      <td>MONDAY DEADLINE REMINDER: The Schall Law Firm ...</td>\n",
       "      <td>https://www.globenewswire.com/news-release/201...</td>\n",
       "    </tr>\n",
       "    <tr>\n",
       "      <th>1</th>\n",
       "      <td>2019-06-14 19:00:00</td>\n",
       "      <td>Bronstein, Gewirtz &amp; Grossman, LLC Class Actio...</td>\n",
       "      <td>https://www.globenewswire.com/news-release/201...</td>\n",
       "    </tr>\n",
       "  </tbody>\n",
       "</table>\n",
       "</div>"
      ],
      "text/plain": [
       "                 date                                           headline  \\\n",
       "0 2019-06-16 23:10:00  MONDAY DEADLINE REMINDER: The Schall Law Firm ...   \n",
       "1 2019-06-14 19:00:00  Bronstein, Gewirtz & Grossman, LLC Class Actio...   \n",
       "\n",
       "                                                 url  \n",
       "0  https://www.globenewswire.com/news-release/201...  \n",
       "1  https://www.globenewswire.com/news-release/201...  "
      ]
     },
     "execution_count": 21,
     "metadata": {},
     "output_type": "execute_result"
    }
   ],
   "source": [
    "apple_ds.head(2)"
   ]
  },
  {
   "cell_type": "code",
   "execution_count": 23,
   "id": "b5c0a488-74d1-40ba-9d34-6bb2e0015ce1",
   "metadata": {},
   "outputs": [],
   "source": [
    "apple_ds = apple_ds[[\"date\", \"headline\"]]"
   ]
  },
  {
   "cell_type": "markdown",
   "id": "536e4513-219c-4117-86f1-b7ad6eae21e4",
   "metadata": {},
   "source": [
    "## **Apple Acquisition News Dataset - 3**\n",
    "\n",
    "[Kaggle Link](https://www.kaggle.com/datasets/joebeachcapital/technology-mergers-and-acquisitions?select=Acquisitions.csv)"
   ]
  },
  {
   "cell_type": "code",
   "execution_count": 24,
   "id": "bd27225e-e4a1-4a46-96f4-d5907f5a90a4",
   "metadata": {},
   "outputs": [],
   "source": [
    "acq = pd.read_csv(\"news/Acquisitions.csv\")"
   ]
  },
  {
   "cell_type": "code",
   "execution_count": 25,
   "id": "a3f854ed-7ba5-4381-95fb-d7fc4e8de54d",
   "metadata": {},
   "outputs": [
    {
     "data": {
      "text/html": [
       "<div>\n",
       "<style scoped>\n",
       "    .dataframe tbody tr th:only-of-type {\n",
       "        vertical-align: middle;\n",
       "    }\n",
       "\n",
       "    .dataframe tbody tr th {\n",
       "        vertical-align: top;\n",
       "    }\n",
       "\n",
       "    .dataframe thead th {\n",
       "        text-align: right;\n",
       "    }\n",
       "</style>\n",
       "<table border=\"1\" class=\"dataframe\">\n",
       "  <thead>\n",
       "    <tr style=\"text-align: right;\">\n",
       "      <th></th>\n",
       "      <th>Acquisitions ID</th>\n",
       "      <th>Acquired Company</th>\n",
       "      <th>Acquiring Company</th>\n",
       "      <th>Year of acquisition announcement</th>\n",
       "      <th>Deal announced on</th>\n",
       "      <th>Price</th>\n",
       "      <th>Status</th>\n",
       "      <th>Terms</th>\n",
       "      <th>Acquisition Profile</th>\n",
       "      <th>News</th>\n",
       "      <th>News Link</th>\n",
       "    </tr>\n",
       "  </thead>\n",
       "  <tbody>\n",
       "    <tr>\n",
       "      <th>0</th>\n",
       "      <td>[24]7 acquired Tellme in 2012</td>\n",
       "      <td>Tellme</td>\n",
       "      <td>[24]7</td>\n",
       "      <td>2012</td>\n",
       "      <td>1/02/2012</td>\n",
       "      <td>Undisclosed amount</td>\n",
       "      <td>Undisclosed</td>\n",
       "      <td>Undisclosed</td>\n",
       "      <td>http://www.crunchbase.com/acquisition/a9e7a5ac...</td>\n",
       "      <td>Microsoft and 24/7 Inc. Join Forces to Deliver...</td>\n",
       "      <td>http://www.microsoft.com/en-us/news/press/2012...</td>\n",
       "    </tr>\n",
       "    <tr>\n",
       "      <th>1</th>\n",
       "      <td>3Com acquired Palm in 1997</td>\n",
       "      <td>Palm</td>\n",
       "      <td>3Com</td>\n",
       "      <td>1997</td>\n",
       "      <td>1/06/1997</td>\n",
       "      <td>Undisclosed amount</td>\n",
       "      <td>Undisclosed</td>\n",
       "      <td>Undisclosed</td>\n",
       "      <td>http://www.crunchbase.com/acquisition/65869a9a...</td>\n",
       "      <td>Investors bless 3Com-USR merger - CNET News</td>\n",
       "      <td>http://news.cnet.com/Investors-bless-3Com-USR-...</td>\n",
       "    </tr>\n",
       "  </tbody>\n",
       "</table>\n",
       "</div>"
      ],
      "text/plain": [
       "                 Acquisitions ID Acquired Company Acquiring Company  \\\n",
       "0  [24]7 acquired Tellme in 2012           Tellme             [24]7   \n",
       "1     3Com acquired Palm in 1997             Palm              3Com   \n",
       "\n",
       "   Year of acquisition announcement Deal announced on               Price  \\\n",
       "0                              2012         1/02/2012  Undisclosed amount   \n",
       "1                              1997         1/06/1997  Undisclosed amount   \n",
       "\n",
       "        Status        Terms  \\\n",
       "0  Undisclosed  Undisclosed   \n",
       "1  Undisclosed  Undisclosed   \n",
       "\n",
       "                                 Acquisition Profile  \\\n",
       "0  http://www.crunchbase.com/acquisition/a9e7a5ac...   \n",
       "1  http://www.crunchbase.com/acquisition/65869a9a...   \n",
       "\n",
       "                                                News  \\\n",
       "0  Microsoft and 24/7 Inc. Join Forces to Deliver...   \n",
       "1        Investors bless 3Com-USR merger - CNET News   \n",
       "\n",
       "                                           News Link  \n",
       "0  http://www.microsoft.com/en-us/news/press/2012...  \n",
       "1  http://news.cnet.com/Investors-bless-3Com-USR-...  "
      ]
     },
     "execution_count": 25,
     "metadata": {},
     "output_type": "execute_result"
    }
   ],
   "source": [
    "acq.head(2)"
   ]
  },
  {
   "cell_type": "code",
   "execution_count": 26,
   "id": "4855da66-5489-44d7-8548-4aff01af3ae5",
   "metadata": {},
   "outputs": [],
   "source": [
    "# Fetching only Apple Data\n",
    "\n",
    "acq = acq[acq[\"Acquiring Company\"] == \"Apple\"]"
   ]
  },
  {
   "cell_type": "code",
   "execution_count": 27,
   "id": "d354629a-0823-4223-90a0-21bf29bc930c",
   "metadata": {},
   "outputs": [],
   "source": [
    "# Fetching only news and date\n",
    "\n",
    "acq = acq[[\"Deal announced on\", \"News\", \"Acquisitions ID\"]]"
   ]
  },
  {
   "cell_type": "code",
   "execution_count": 28,
   "id": "f922ae24-8cf7-4113-8299-157f583a0dca",
   "metadata": {},
   "outputs": [
    {
     "data": {
      "text/plain": [
       "(51, 3)"
      ]
     },
     "execution_count": 28,
     "metadata": {},
     "output_type": "execute_result"
    }
   ],
   "source": [
    "acq.shape"
   ]
  },
  {
   "cell_type": "code",
   "execution_count": 29,
   "id": "fc7a7fec-1ebb-4cf8-ab15-ab9b12689f89",
   "metadata": {},
   "outputs": [
    {
     "data": {
      "text/plain": [
       "Deal announced on    0\n",
       "News                 2\n",
       "Acquisitions ID      0\n",
       "dtype: int64"
      ]
     },
     "execution_count": 29,
     "metadata": {},
     "output_type": "execute_result"
    }
   ],
   "source": [
    "acq.isnull().sum()"
   ]
  },
  {
   "cell_type": "code",
   "execution_count": 30,
   "id": "53c8c879-0561-402a-bc67-b2ee1b48dc92",
   "metadata": {},
   "outputs": [],
   "source": [
    "# Filling missing news with headlines\n",
    "\n",
    "acq[\"News\"] = acq[\"News\"].fillna(acq[\"Acquisitions ID\"])"
   ]
  },
  {
   "cell_type": "code",
   "execution_count": 31,
   "id": "153fe2e8-73ec-4934-96ec-f93de2c143ec",
   "metadata": {},
   "outputs": [],
   "source": [
    "acq.rename(columns={\"Deal announced on\" : \"date\", \"News\" : \"headline\"}, inplace=True)"
   ]
  },
  {
   "cell_type": "code",
   "execution_count": 32,
   "id": "9c456e77-0d48-453a-b91e-9f63e183f964",
   "metadata": {},
   "outputs": [],
   "source": [
    "acq = acq[[\"date\", \"headline\"]]"
   ]
  },
  {
   "cell_type": "code",
   "execution_count": 33,
   "id": "132b6d4f-d516-4381-8381-068fece53a2d",
   "metadata": {},
   "outputs": [],
   "source": [
    "acq['date'] = pd.to_datetime(acq['date'], format=\"%d/%m/%Y\")"
   ]
  },
  {
   "cell_type": "code",
   "execution_count": 34,
   "id": "df1bf600-d70d-4dd3-b1c9-6661e34d52ca",
   "metadata": {},
   "outputs": [
    {
     "data": {
      "text/html": [
       "<div>\n",
       "<style scoped>\n",
       "    .dataframe tbody tr th:only-of-type {\n",
       "        vertical-align: middle;\n",
       "    }\n",
       "\n",
       "    .dataframe tbody tr th {\n",
       "        vertical-align: top;\n",
       "    }\n",
       "\n",
       "    .dataframe thead th {\n",
       "        text-align: right;\n",
       "    }\n",
       "</style>\n",
       "<table border=\"1\" class=\"dataframe\">\n",
       "  <thead>\n",
       "    <tr style=\"text-align: right;\">\n",
       "      <th></th>\n",
       "      <th>date</th>\n",
       "      <th>headline</th>\n",
       "    </tr>\n",
       "  </thead>\n",
       "  <tbody>\n",
       "    <tr>\n",
       "      <th>148</th>\n",
       "      <td>2013-08-28</td>\n",
       "      <td>Apple Acquires Swedish Firm AlgoTrim A Company...</td>\n",
       "    </tr>\n",
       "    <tr>\n",
       "      <th>149</th>\n",
       "      <td>2011-12-13</td>\n",
       "      <td>Apple Reportedly Buying Flash Memory Company A...</td>\n",
       "    </tr>\n",
       "  </tbody>\n",
       "</table>\n",
       "</div>"
      ],
      "text/plain": [
       "          date                                           headline\n",
       "148 2013-08-28  Apple Acquires Swedish Firm AlgoTrim A Company...\n",
       "149 2011-12-13  Apple Reportedly Buying Flash Memory Company A..."
      ]
     },
     "execution_count": 34,
     "metadata": {},
     "output_type": "execute_result"
    }
   ],
   "source": [
    "acq.head(2)"
   ]
  },
  {
   "cell_type": "markdown",
   "id": "183baaf7-150e-4a5f-a09e-6920f7576c72",
   "metadata": {},
   "source": [
    "## **Apple News Dataset 4**\n",
    "\n",
    "[Kaggle Link](https://www.kaggle.com/datasets/BidecInnovations/stock-price-and-news-realted-to-it?select=AppleNewsStock.csv)"
   ]
  },
  {
   "cell_type": "code",
   "execution_count": 35,
   "id": "e0de4c02-d3af-413d-b59b-cff18a274296",
   "metadata": {},
   "outputs": [],
   "source": [
    "df4 = pd.read_csv(\"news/AppleNewsStock.csv\")"
   ]
  },
  {
   "cell_type": "code",
   "execution_count": 36,
   "id": "f9efa19f-115f-4578-887f-487128b16859",
   "metadata": {},
   "outputs": [
    {
     "data": {
      "text/html": [
       "<div>\n",
       "<style scoped>\n",
       "    .dataframe tbody tr th:only-of-type {\n",
       "        vertical-align: middle;\n",
       "    }\n",
       "\n",
       "    .dataframe tbody tr th {\n",
       "        vertical-align: top;\n",
       "    }\n",
       "\n",
       "    .dataframe thead th {\n",
       "        text-align: right;\n",
       "    }\n",
       "</style>\n",
       "<table border=\"1\" class=\"dataframe\">\n",
       "  <thead>\n",
       "    <tr style=\"text-align: right;\">\n",
       "      <th></th>\n",
       "      <th>Date</th>\n",
       "      <th>Open</th>\n",
       "      <th>High</th>\n",
       "      <th>Low</th>\n",
       "      <th>Close</th>\n",
       "      <th>Adj Close</th>\n",
       "      <th>Volume</th>\n",
       "      <th>News</th>\n",
       "    </tr>\n",
       "  </thead>\n",
       "  <tbody>\n",
       "    <tr>\n",
       "      <th>0</th>\n",
       "      <td>2006-12-01</td>\n",
       "      <td>13.114285</td>\n",
       "      <td>13.19</td>\n",
       "      <td>12.871428</td>\n",
       "      <td>91.320000</td>\n",
       "      <td>13.045714</td>\n",
       "      <td>198769900</td>\n",
       "      <td>WHAT'S ON TONIGHT : 8 P.M. (TLC) ASHLEY JUDD A...</td>\n",
       "    </tr>\n",
       "    <tr>\n",
       "      <th>1</th>\n",
       "      <td>2006-12-04</td>\n",
       "      <td>13.125714</td>\n",
       "      <td>13.15</td>\n",
       "      <td>12.928572</td>\n",
       "      <td>91.120003</td>\n",
       "      <td>13.017143</td>\n",
       "      <td>177384200</td>\n",
       "      <td>More on Housing Prices : The broadest governme...</td>\n",
       "    </tr>\n",
       "  </tbody>\n",
       "</table>\n",
       "</div>"
      ],
      "text/plain": [
       "         Date       Open   High        Low      Close  Adj Close     Volume  \\\n",
       "0  2006-12-01  13.114285  13.19  12.871428  91.320000  13.045714  198769900   \n",
       "1  2006-12-04  13.125714  13.15  12.928572  91.120003  13.017143  177384200   \n",
       "\n",
       "                                                News  \n",
       "0  WHAT'S ON TONIGHT : 8 P.M. (TLC) ASHLEY JUDD A...  \n",
       "1  More on Housing Prices : The broadest governme...  "
      ]
     },
     "execution_count": 36,
     "metadata": {},
     "output_type": "execute_result"
    }
   ],
   "source": [
    "df4.head(2)"
   ]
  },
  {
   "cell_type": "code",
   "execution_count": 37,
   "id": "aa165e8d-2b47-4083-bf2d-015809ba8c8d",
   "metadata": {},
   "outputs": [],
   "source": [
    "df4 = df4[[\"Date\", \"News\"]]"
   ]
  },
  {
   "cell_type": "code",
   "execution_count": 38,
   "id": "c2397ebe-7e1b-4fdf-880d-41c0eb4dce01",
   "metadata": {},
   "outputs": [],
   "source": [
    "df4.rename(columns={\"Date\" : \"date\", \"News\" : \"headline\"}, inplace=True)"
   ]
  },
  {
   "cell_type": "code",
   "execution_count": 39,
   "id": "14c62b51-1ff5-459c-b1db-6621f87e7e78",
   "metadata": {},
   "outputs": [
    {
     "data": {
      "text/html": [
       "<div>\n",
       "<style scoped>\n",
       "    .dataframe tbody tr th:only-of-type {\n",
       "        vertical-align: middle;\n",
       "    }\n",
       "\n",
       "    .dataframe tbody tr th {\n",
       "        vertical-align: top;\n",
       "    }\n",
       "\n",
       "    .dataframe thead th {\n",
       "        text-align: right;\n",
       "    }\n",
       "</style>\n",
       "<table border=\"1\" class=\"dataframe\">\n",
       "  <thead>\n",
       "    <tr style=\"text-align: right;\">\n",
       "      <th></th>\n",
       "      <th>date</th>\n",
       "      <th>headline</th>\n",
       "    </tr>\n",
       "  </thead>\n",
       "  <tbody>\n",
       "    <tr>\n",
       "      <th>0</th>\n",
       "      <td>2006-12-01</td>\n",
       "      <td>WHAT'S ON TONIGHT : 8 P.M. (TLC) ASHLEY JUDD A...</td>\n",
       "    </tr>\n",
       "    <tr>\n",
       "      <th>1</th>\n",
       "      <td>2006-12-04</td>\n",
       "      <td>More on Housing Prices : The broadest governme...</td>\n",
       "    </tr>\n",
       "    <tr>\n",
       "      <th>2</th>\n",
       "      <td>2006-12-05</td>\n",
       "      <td>NaN</td>\n",
       "    </tr>\n",
       "    <tr>\n",
       "      <th>3</th>\n",
       "      <td>2006-12-06</td>\n",
       "      <td>Honoring R.W. Apple in Words and Food : About ...</td>\n",
       "    </tr>\n",
       "    <tr>\n",
       "      <th>4</th>\n",
       "      <td>2006-12-07</td>\n",
       "      <td>Homebuilders, and Worries Over Jobs, Lead a De...</td>\n",
       "    </tr>\n",
       "  </tbody>\n",
       "</table>\n",
       "</div>"
      ],
      "text/plain": [
       "         date                                           headline\n",
       "0  2006-12-01  WHAT'S ON TONIGHT : 8 P.M. (TLC) ASHLEY JUDD A...\n",
       "1  2006-12-04  More on Housing Prices : The broadest governme...\n",
       "2  2006-12-05                                                NaN\n",
       "3  2006-12-06  Honoring R.W. Apple in Words and Food : About ...\n",
       "4  2006-12-07  Homebuilders, and Worries Over Jobs, Lead a De..."
      ]
     },
     "execution_count": 39,
     "metadata": {},
     "output_type": "execute_result"
    }
   ],
   "source": [
    "df4.head()"
   ]
  },
  {
   "cell_type": "code",
   "execution_count": 40,
   "id": "d485bfa8-ec0c-4a0e-8dde-e799d6245f78",
   "metadata": {},
   "outputs": [
    {
     "data": {
      "text/plain": [
       "date          0\n",
       "headline    194\n",
       "dtype: int64"
      ]
     },
     "execution_count": 40,
     "metadata": {},
     "output_type": "execute_result"
    }
   ],
   "source": [
    "df4.isnull().sum()"
   ]
  },
  {
   "cell_type": "code",
   "execution_count": 41,
   "id": "a995db05-91e7-47c9-ad4d-7ccfb0e20aa5",
   "metadata": {},
   "outputs": [],
   "source": [
    "df4.dropna(inplace=True)"
   ]
  },
  {
   "cell_type": "code",
   "execution_count": 42,
   "id": "d3db4b21-743d-4023-81db-831c7ca2735c",
   "metadata": {},
   "outputs": [],
   "source": [
    "df4 = df4.reset_index(drop=True)\n",
    "\n",
    "df4['date'] = pd.to_datetime(df['date'].reset_index(drop=True))"
   ]
  },
  {
   "cell_type": "code",
   "execution_count": 43,
   "id": "cbe596f4-f744-4dcb-8611-ff7999aa1bbb",
   "metadata": {},
   "outputs": [
    {
     "data": {
      "text/html": [
       "<div>\n",
       "<style scoped>\n",
       "    .dataframe tbody tr th:only-of-type {\n",
       "        vertical-align: middle;\n",
       "    }\n",
       "\n",
       "    .dataframe tbody tr th {\n",
       "        vertical-align: top;\n",
       "    }\n",
       "\n",
       "    .dataframe thead th {\n",
       "        text-align: right;\n",
       "    }\n",
       "</style>\n",
       "<table border=\"1\" class=\"dataframe\">\n",
       "  <thead>\n",
       "    <tr style=\"text-align: right;\">\n",
       "      <th></th>\n",
       "      <th>date</th>\n",
       "      <th>headline</th>\n",
       "    </tr>\n",
       "  </thead>\n",
       "  <tbody>\n",
       "    <tr>\n",
       "      <th>0</th>\n",
       "      <td>2000-12-19</td>\n",
       "      <td>WHAT'S ON TONIGHT : 8 P.M. (TLC) ASHLEY JUDD A...</td>\n",
       "    </tr>\n",
       "    <tr>\n",
       "      <th>1</th>\n",
       "      <td>2000-10-09</td>\n",
       "      <td>More on Housing Prices : The broadest governme...</td>\n",
       "    </tr>\n",
       "    <tr>\n",
       "      <th>2</th>\n",
       "      <td>2000-08-10</td>\n",
       "      <td>Honoring R.W. Apple in Words and Food : About ...</td>\n",
       "    </tr>\n",
       "    <tr>\n",
       "      <th>3</th>\n",
       "      <td>2000-07-19</td>\n",
       "      <td>Homebuilders, and Worries Over Jobs, Lead a De...</td>\n",
       "    </tr>\n",
       "    <tr>\n",
       "      <th>4</th>\n",
       "      <td>2000-06-06</td>\n",
       "      <td>Homebuilders, and Worries Over Jobs, Lead a De...</td>\n",
       "    </tr>\n",
       "  </tbody>\n",
       "</table>\n",
       "</div>"
      ],
      "text/plain": [
       "        date                                           headline\n",
       "0 2000-12-19  WHAT'S ON TONIGHT : 8 P.M. (TLC) ASHLEY JUDD A...\n",
       "1 2000-10-09  More on Housing Prices : The broadest governme...\n",
       "2 2000-08-10  Honoring R.W. Apple in Words and Food : About ...\n",
       "3 2000-07-19  Homebuilders, and Worries Over Jobs, Lead a De...\n",
       "4 2000-06-06  Homebuilders, and Worries Over Jobs, Lead a De..."
      ]
     },
     "execution_count": 43,
     "metadata": {},
     "output_type": "execute_result"
    }
   ],
   "source": [
    "df4.head()"
   ]
  },
  {
   "cell_type": "markdown",
   "id": "9244888d-46f9-4299-9020-688a49df7914",
   "metadata": {},
   "source": [
    "## **Apple News Dataset - 5**\n",
    "\n",
    "[Kaggle Link](https://www.kaggle.com/datasets/abdulkkhayyum519/nyt-apple-related-news-articles-dataset)"
   ]
  },
  {
   "cell_type": "code",
   "execution_count": 44,
   "id": "6bc4798a-38ea-408b-aa13-9fda0d54894f",
   "metadata": {},
   "outputs": [],
   "source": [
    "df5 = pd.read_csv(\"news/nyt_apple_related_news.csv\")"
   ]
  },
  {
   "cell_type": "code",
   "execution_count": 45,
   "id": "eedacef0-b15f-4545-8a9f-d002a00a2da9",
   "metadata": {},
   "outputs": [
    {
     "data": {
      "text/html": [
       "<div>\n",
       "<style scoped>\n",
       "    .dataframe tbody tr th:only-of-type {\n",
       "        vertical-align: middle;\n",
       "    }\n",
       "\n",
       "    .dataframe tbody tr th {\n",
       "        vertical-align: top;\n",
       "    }\n",
       "\n",
       "    .dataframe thead th {\n",
       "        text-align: right;\n",
       "    }\n",
       "</style>\n",
       "<table border=\"1\" class=\"dataframe\">\n",
       "  <thead>\n",
       "    <tr style=\"text-align: right;\">\n",
       "      <th></th>\n",
       "      <th>search_term</th>\n",
       "      <th>pub_date</th>\n",
       "      <th>headline</th>\n",
       "      <th>snippet</th>\n",
       "    </tr>\n",
       "  </thead>\n",
       "  <tbody>\n",
       "    <tr>\n",
       "      <th>0</th>\n",
       "      <td>apple sales spike</td>\n",
       "      <td>2008-01-22</td>\n",
       "      <td>Can the Touch Revive Apple’s iPod Sales?</td>\n",
       "      <td>Despite a 10 percent drop in Apple’s shares, t...</td>\n",
       "    </tr>\n",
       "    <tr>\n",
       "      <th>1</th>\n",
       "      <td>apple sales spike</td>\n",
       "      <td>2008-07-16</td>\n",
       "      <td>Apple Sues Psystar to Block Macintosh Clone Sales</td>\n",
       "      <td>Apple has sued Psystar, a Florida-based maker ...</td>\n",
       "    </tr>\n",
       "  </tbody>\n",
       "</table>\n",
       "</div>"
      ],
      "text/plain": [
       "         search_term    pub_date  \\\n",
       "0  apple sales spike  2008-01-22   \n",
       "1  apple sales spike  2008-07-16   \n",
       "\n",
       "                                            headline  \\\n",
       "0           Can the Touch Revive Apple’s iPod Sales?   \n",
       "1  Apple Sues Psystar to Block Macintosh Clone Sales   \n",
       "\n",
       "                                             snippet  \n",
       "0  Despite a 10 percent drop in Apple’s shares, t...  \n",
       "1  Apple has sued Psystar, a Florida-based maker ...  "
      ]
     },
     "execution_count": 45,
     "metadata": {},
     "output_type": "execute_result"
    }
   ],
   "source": [
    "df5.head(2)"
   ]
  },
  {
   "cell_type": "code",
   "execution_count": 46,
   "id": "86359000-2b1c-424c-a033-43664ea57718",
   "metadata": {},
   "outputs": [],
   "source": [
    "df5['pub_date'] = pd.to_datetime(df5['pub_date'])"
   ]
  },
  {
   "cell_type": "code",
   "execution_count": 47,
   "id": "4423c851-ebd4-45fd-8741-173f621d7a9c",
   "metadata": {},
   "outputs": [],
   "source": [
    "df5.rename(columns={\"pub_date\" : \"date\"}, inplace=True)"
   ]
  },
  {
   "cell_type": "code",
   "execution_count": 48,
   "id": "106f6a80-446c-4f8e-ae29-7b8893790770",
   "metadata": {},
   "outputs": [],
   "source": [
    "df5 = df5[[\"date\", \"headline\"]]"
   ]
  },
  {
   "cell_type": "code",
   "execution_count": 49,
   "id": "eebd2a3e-f4ec-4d13-9eaf-a4aead56a896",
   "metadata": {},
   "outputs": [
    {
     "data": {
      "text/html": [
       "<div>\n",
       "<style scoped>\n",
       "    .dataframe tbody tr th:only-of-type {\n",
       "        vertical-align: middle;\n",
       "    }\n",
       "\n",
       "    .dataframe tbody tr th {\n",
       "        vertical-align: top;\n",
       "    }\n",
       "\n",
       "    .dataframe thead th {\n",
       "        text-align: right;\n",
       "    }\n",
       "</style>\n",
       "<table border=\"1\" class=\"dataframe\">\n",
       "  <thead>\n",
       "    <tr style=\"text-align: right;\">\n",
       "      <th></th>\n",
       "      <th>date</th>\n",
       "      <th>headline</th>\n",
       "    </tr>\n",
       "  </thead>\n",
       "  <tbody>\n",
       "    <tr>\n",
       "      <th>1078</th>\n",
       "      <td>2025-01-17</td>\n",
       "      <td>Supreme Court Backs Law Requiring TikTok to Be...</td>\n",
       "    </tr>\n",
       "    <tr>\n",
       "      <th>1079</th>\n",
       "      <td>2025-03-21</td>\n",
       "      <td>‘Severance’ Asks, What if We’re Not Paranoid E...</td>\n",
       "    </tr>\n",
       "    <tr>\n",
       "      <th>1080</th>\n",
       "      <td>2025-04-04</td>\n",
       "      <td>The Worst Stock Market Drop in Years, and Dr. ...</td>\n",
       "    </tr>\n",
       "  </tbody>\n",
       "</table>\n",
       "</div>"
      ],
      "text/plain": [
       "           date                                           headline\n",
       "1078 2025-01-17  Supreme Court Backs Law Requiring TikTok to Be...\n",
       "1079 2025-03-21  ‘Severance’ Asks, What if We’re Not Paranoid E...\n",
       "1080 2025-04-04  The Worst Stock Market Drop in Years, and Dr. ..."
      ]
     },
     "execution_count": 49,
     "metadata": {},
     "output_type": "execute_result"
    }
   ],
   "source": [
    "df5.tail(3)"
   ]
  },
  {
   "cell_type": "markdown",
   "id": "9236cb6d-f1eb-413b-ae6a-672f74ba56d7",
   "metadata": {},
   "source": [
    "> ## **Merging Apple Web and Dataset News**"
   ]
  },
  {
   "cell_type": "code",
   "execution_count": 50,
   "id": "5cf3bd0a-fd00-47e4-9809-b57fb7bb31c6",
   "metadata": {},
   "outputs": [],
   "source": [
    "df = pd.concat([news, apple_ds, acq, df4, df5])"
   ]
  },
  {
   "cell_type": "code",
   "execution_count": 51,
   "id": "a8eddeb9-658e-4928-89d0-3fb5ff095ad1",
   "metadata": {},
   "outputs": [],
   "source": [
    "df = df.sort_values(by='date', ascending=True).reset_index(drop=True)"
   ]
  },
  {
   "cell_type": "code",
   "execution_count": 52,
   "id": "b95d733d-f39e-4c5e-b96c-ad8adc5e2921",
   "metadata": {},
   "outputs": [
    {
     "data": {
      "text/plain": [
       "(3761, 2)"
      ]
     },
     "execution_count": 52,
     "metadata": {},
     "output_type": "execute_result"
    }
   ],
   "source": [
    "df.shape"
   ]
  },
  {
   "cell_type": "code",
   "execution_count": 53,
   "id": "845af1ab-50a0-4882-8d4c-80cc5688c0aa",
   "metadata": {},
   "outputs": [
    {
     "data": {
      "text/html": [
       "<div>\n",
       "<style scoped>\n",
       "    .dataframe tbody tr th:only-of-type {\n",
       "        vertical-align: middle;\n",
       "    }\n",
       "\n",
       "    .dataframe tbody tr th {\n",
       "        vertical-align: top;\n",
       "    }\n",
       "\n",
       "    .dataframe thead th {\n",
       "        text-align: right;\n",
       "    }\n",
       "</style>\n",
       "<table border=\"1\" class=\"dataframe\">\n",
       "  <thead>\n",
       "    <tr style=\"text-align: right;\">\n",
       "      <th></th>\n",
       "      <th>date</th>\n",
       "      <th>headline</th>\n",
       "    </tr>\n",
       "  </thead>\n",
       "  <tbody>\n",
       "    <tr>\n",
       "      <th>0</th>\n",
       "      <td>1988-03-02</td>\n",
       "      <td>Apple acquired Network Innovations</td>\n",
       "    </tr>\n",
       "    <tr>\n",
       "      <th>1</th>\n",
       "      <td>1988-06-07</td>\n",
       "      <td>Apple acquired Orion Network Systems</td>\n",
       "    </tr>\n",
       "    <tr>\n",
       "      <th>2</th>\n",
       "      <td>1988-06-27</td>\n",
       "      <td>Apple acquired Styleware</td>\n",
       "    </tr>\n",
       "    <tr>\n",
       "      <th>3</th>\n",
       "      <td>1988-07-11</td>\n",
       "      <td>Apple acquired Nashoba Systems</td>\n",
       "    </tr>\n",
       "    <tr>\n",
       "      <th>4</th>\n",
       "      <td>1989-01-03</td>\n",
       "      <td>Apple acquired Coral Software</td>\n",
       "    </tr>\n",
       "  </tbody>\n",
       "</table>\n",
       "</div>"
      ],
      "text/plain": [
       "        date                              headline\n",
       "0 1988-03-02    Apple acquired Network Innovations\n",
       "1 1988-06-07  Apple acquired Orion Network Systems\n",
       "2 1988-06-27              Apple acquired Styleware\n",
       "3 1988-07-11        Apple acquired Nashoba Systems\n",
       "4 1989-01-03         Apple acquired Coral Software"
      ]
     },
     "execution_count": 53,
     "metadata": {},
     "output_type": "execute_result"
    }
   ],
   "source": [
    "df.head()"
   ]
  },
  {
   "cell_type": "code",
   "execution_count": 54,
   "id": "f1a5bcc7-1161-4657-ba60-4301927a2f4c",
   "metadata": {},
   "outputs": [
    {
     "data": {
      "text/plain": [
       "array([1988., 1989., 1996., 1997., 1999., 2000., 2001., 2002., 2003.,\n",
       "       2004., 2005., 2006., 2007., 2008., 2009., 2010., 2011., 2012.,\n",
       "       2013., 2014., 2015., 2016., 2017., 2018., 2019., 2020., 2021.,\n",
       "       2022., 2023., 2024., 2025.,   nan])"
      ]
     },
     "execution_count": 54,
     "metadata": {},
     "output_type": "execute_result"
    }
   ],
   "source": [
    "df['date'].dt.year.unique()"
   ]
  },
  {
   "cell_type": "markdown",
   "id": "16ca5993-4868-4ba2-abda-d39f463e399e",
   "metadata": {},
   "source": [
    "> # **FinBERT Transformer Sentiment Analysis**"
   ]
  },
  {
   "cell_type": "code",
   "execution_count": 55,
   "id": "a9c0f90c-19f7-4ba7-9fc7-82217edcf12d",
   "metadata": {},
   "outputs": [
    {
     "name": "stdout",
     "output_type": "stream",
     "text": [
      "WARNING:tensorflow:From C:\\Users\\VICTUS\\anaconda3\\Lib\\site-packages\\tf_keras\\src\\losses.py:2976: The name tf.losses.sparse_softmax_cross_entropy is deprecated. Please use tf.compat.v1.losses.sparse_softmax_cross_entropy instead.\n",
      "\n"
     ]
    },
    {
     "name": "stderr",
     "output_type": "stream",
     "text": [
      "Device set to use cuda:0\n"
     ]
    }
   ],
   "source": [
    "# Load Pre-trained FinBERT Model\n",
    "\n",
    "finbert = pipeline(\"sentiment-analysis\", model=\"yiyanghkust/finbert-tone\", tokenizer=\"yiyanghkust/finbert-tone\")"
   ]
  },
  {
   "cell_type": "code",
   "execution_count": 56,
   "id": "f12ae641-bbb8-422f-9d03-a65a2e90de43",
   "metadata": {},
   "outputs": [],
   "source": [
    "# Function to get sentiment label\n",
    "def get_finbert_sentiment(text):\n",
    "    result = finbert(str(text), truncation=True, max_length=512)[0]  # returns list with dict\n",
    "    return result['label'], result['score']"
   ]
  },
  {
   "cell_type": "code",
   "execution_count": 57,
   "id": "886f9761-d8a3-4c28-b0c3-272f0fbc62b6",
   "metadata": {},
   "outputs": [
    {
     "name": "stderr",
     "output_type": "stream",
     "text": [
      "You seem to be using the pipelines sequentially on GPU. In order to maximize efficiency please use a dataset\n"
     ]
    }
   ],
   "source": [
    "df[['sentiment_label', 'news_sentiment']] = df['headline'].apply(lambda x: pd.Series(get_finbert_sentiment(x)))"
   ]
  },
  {
   "cell_type": "code",
   "execution_count": 59,
   "id": "b6f8b12f-61f6-4e1f-8c13-18d37f6f2305",
   "metadata": {},
   "outputs": [],
   "source": [
    "df = df[df['date'].dt.year <= 2019]"
   ]
  },
  {
   "cell_type": "code",
   "execution_count": 73,
   "id": "8b471eec-8aa6-4769-badd-cfddb6d36889",
   "metadata": {},
   "outputs": [
    {
     "data": {
      "text/plain": [
       "(746, 4)"
      ]
     },
     "execution_count": 73,
     "metadata": {},
     "output_type": "execute_result"
    }
   ],
   "source": [
    "df.shape"
   ]
  },
  {
   "cell_type": "code",
   "execution_count": 60,
   "id": "53ba540e-47c7-4308-bd93-e0aa9dcff625",
   "metadata": {},
   "outputs": [
    {
     "data": {
      "text/plain": [
       "sentiment_label\n",
       "Neutral     598\n",
       "Negative     82\n",
       "Positive     66\n",
       "Name: count, dtype: int64"
      ]
     },
     "execution_count": 60,
     "metadata": {},
     "output_type": "execute_result"
    }
   ],
   "source": [
    "df['sentiment_label'].value_counts()"
   ]
  },
  {
   "cell_type": "code",
   "execution_count": 61,
   "id": "83217290-a27a-4aed-86a9-bcfb6ee3339d",
   "metadata": {},
   "outputs": [
    {
     "data": {
      "text/html": [
       "<div>\n",
       "<style scoped>\n",
       "    .dataframe tbody tr th:only-of-type {\n",
       "        vertical-align: middle;\n",
       "    }\n",
       "\n",
       "    .dataframe tbody tr th {\n",
       "        vertical-align: top;\n",
       "    }\n",
       "\n",
       "    .dataframe thead th {\n",
       "        text-align: right;\n",
       "    }\n",
       "</style>\n",
       "<table border=\"1\" class=\"dataframe\">\n",
       "  <thead>\n",
       "    <tr style=\"text-align: right;\">\n",
       "      <th></th>\n",
       "      <th>date</th>\n",
       "      <th>headline</th>\n",
       "      <th>sentiment_label</th>\n",
       "      <th>news_sentiment</th>\n",
       "    </tr>\n",
       "  </thead>\n",
       "  <tbody>\n",
       "    <tr>\n",
       "      <th>741</th>\n",
       "      <td>2019-12-12</td>\n",
       "      <td>How Much Watching Time Do You Have This Weekend?</td>\n",
       "      <td>Neutral</td>\n",
       "      <td>0.999779</td>\n",
       "    </tr>\n",
       "    <tr>\n",
       "      <th>742</th>\n",
       "      <td>2019-12-13</td>\n",
       "      <td>How the Big Apple Circus Ringmaster Spends Her...</td>\n",
       "      <td>Neutral</td>\n",
       "      <td>0.999989</td>\n",
       "    </tr>\n",
       "    <tr>\n",
       "      <th>743</th>\n",
       "      <td>2019-12-18</td>\n",
       "      <td>For Many Campaigns, the Little i’s Have It : L...</td>\n",
       "      <td>Neutral</td>\n",
       "      <td>0.999359</td>\n",
       "    </tr>\n",
       "    <tr>\n",
       "      <th>744</th>\n",
       "      <td>2019-12-18</td>\n",
       "      <td>Amazon, Apple, Google, and the Zigbee Alliance...</td>\n",
       "      <td>Neutral</td>\n",
       "      <td>0.999380</td>\n",
       "    </tr>\n",
       "    <tr>\n",
       "      <th>745</th>\n",
       "      <td>2019-12-26</td>\n",
       "      <td>The Watch Is Smart, but It Can’t Replace Your ...</td>\n",
       "      <td>Neutral</td>\n",
       "      <td>0.974359</td>\n",
       "    </tr>\n",
       "  </tbody>\n",
       "</table>\n",
       "</div>"
      ],
      "text/plain": [
       "          date                                           headline  \\\n",
       "741 2019-12-12   How Much Watching Time Do You Have This Weekend?   \n",
       "742 2019-12-13  How the Big Apple Circus Ringmaster Spends Her...   \n",
       "743 2019-12-18  For Many Campaigns, the Little i’s Have It : L...   \n",
       "744 2019-12-18  Amazon, Apple, Google, and the Zigbee Alliance...   \n",
       "745 2019-12-26  The Watch Is Smart, but It Can’t Replace Your ...   \n",
       "\n",
       "    sentiment_label  news_sentiment  \n",
       "741         Neutral        0.999779  \n",
       "742         Neutral        0.999989  \n",
       "743         Neutral        0.999359  \n",
       "744         Neutral        0.999380  \n",
       "745         Neutral        0.974359  "
      ]
     },
     "execution_count": 61,
     "metadata": {},
     "output_type": "execute_result"
    }
   ],
   "source": [
    "df.tail()"
   ]
  },
  {
   "cell_type": "code",
   "execution_count": 62,
   "id": "845647eb-a87b-489d-bbb7-8a1dcf68ac95",
   "metadata": {},
   "outputs": [
    {
     "data": {
      "text/plain": [
       "np.int64(258)"
      ]
     },
     "execution_count": 62,
     "metadata": {},
     "output_type": "execute_result"
    }
   ],
   "source": [
    "df['date'].duplicated().sum()"
   ]
  },
  {
   "cell_type": "code",
   "execution_count": 71,
   "id": "e386a576-0fd2-4418-ac60-02a66a45011c",
   "metadata": {},
   "outputs": [],
   "source": [
    "df.to_csv(\"Datasets/finbert_news_extracted_sentiment.csv\", index=False)"
   ]
  },
  {
   "cell_type": "code",
   "execution_count": 63,
   "id": "c46cb051-d8d0-46cc-a69d-36d4b342bfe5",
   "metadata": {},
   "outputs": [],
   "source": [
    "daily_avg_news = df.groupby('date')['news_sentiment'].mean().reset_index()"
   ]
  },
  {
   "cell_type": "code",
   "execution_count": 64,
   "id": "a42eb6c8-1403-47cc-91b2-083294146d01",
   "metadata": {},
   "outputs": [
    {
     "data": {
      "text/plain": [
       "np.int64(0)"
      ]
     },
     "execution_count": 64,
     "metadata": {},
     "output_type": "execute_result"
    }
   ],
   "source": [
    "daily_avg_news.rename(columns={'date' : 'Date'}, inplace=True)\n",
    "daily_avg_news['Date'].duplicated().sum()"
   ]
  },
  {
   "cell_type": "code",
   "execution_count": 65,
   "id": "9aa814fe-c659-4f1d-a160-550c3eee3e9e",
   "metadata": {},
   "outputs": [
    {
     "data": {
      "text/plain": [
       "(488, 2)"
      ]
     },
     "execution_count": 65,
     "metadata": {},
     "output_type": "execute_result"
    }
   ],
   "source": [
    "daily_avg_news.shape"
   ]
  },
  {
   "cell_type": "code",
   "execution_count": 66,
   "id": "cb873cdb-e74e-41ed-ae66-99ac4b993381",
   "metadata": {},
   "outputs": [
    {
     "data": {
      "text/html": [
       "<div>\n",
       "<style scoped>\n",
       "    .dataframe tbody tr th:only-of-type {\n",
       "        vertical-align: middle;\n",
       "    }\n",
       "\n",
       "    .dataframe tbody tr th {\n",
       "        vertical-align: top;\n",
       "    }\n",
       "\n",
       "    .dataframe thead th {\n",
       "        text-align: right;\n",
       "    }\n",
       "</style>\n",
       "<table border=\"1\" class=\"dataframe\">\n",
       "  <thead>\n",
       "    <tr style=\"text-align: right;\">\n",
       "      <th></th>\n",
       "      <th>Date</th>\n",
       "      <th>news_sentiment</th>\n",
       "    </tr>\n",
       "  </thead>\n",
       "  <tbody>\n",
       "    <tr>\n",
       "      <th>0</th>\n",
       "      <td>1988-03-02</td>\n",
       "      <td>0.998569</td>\n",
       "    </tr>\n",
       "    <tr>\n",
       "      <th>1</th>\n",
       "      <td>1988-06-07</td>\n",
       "      <td>0.999573</td>\n",
       "    </tr>\n",
       "    <tr>\n",
       "      <th>2</th>\n",
       "      <td>1988-06-27</td>\n",
       "      <td>0.999008</td>\n",
       "    </tr>\n",
       "    <tr>\n",
       "      <th>3</th>\n",
       "      <td>1988-07-11</td>\n",
       "      <td>0.999060</td>\n",
       "    </tr>\n",
       "    <tr>\n",
       "      <th>4</th>\n",
       "      <td>1989-01-03</td>\n",
       "      <td>0.998938</td>\n",
       "    </tr>\n",
       "  </tbody>\n",
       "</table>\n",
       "</div>"
      ],
      "text/plain": [
       "        Date  news_sentiment\n",
       "0 1988-03-02        0.998569\n",
       "1 1988-06-07        0.999573\n",
       "2 1988-06-27        0.999008\n",
       "3 1988-07-11        0.999060\n",
       "4 1989-01-03        0.998938"
      ]
     },
     "execution_count": 66,
     "metadata": {},
     "output_type": "execute_result"
    }
   ],
   "source": [
    "daily_avg_news.head()"
   ]
  },
  {
   "cell_type": "code",
   "execution_count": 67,
   "id": "bbe6e22e-6894-4840-bd9c-392484785a1f",
   "metadata": {},
   "outputs": [],
   "source": [
    "# Converting to datetime index\n",
    "\n",
    "daily_avg_news.set_index(daily_avg_news['Date'], inplace=True)\n",
    "\n",
    "daily_avg_news.drop(columns=[\"Date\"], inplace=True)"
   ]
  },
  {
   "cell_type": "code",
   "execution_count": 68,
   "id": "86115d2e-cb22-483e-8d35-7ea039ea4fe5",
   "metadata": {},
   "outputs": [
    {
     "data": {
      "text/html": [
       "<div>\n",
       "<style scoped>\n",
       "    .dataframe tbody tr th:only-of-type {\n",
       "        vertical-align: middle;\n",
       "    }\n",
       "\n",
       "    .dataframe tbody tr th {\n",
       "        vertical-align: top;\n",
       "    }\n",
       "\n",
       "    .dataframe thead th {\n",
       "        text-align: right;\n",
       "    }\n",
       "</style>\n",
       "<table border=\"1\" class=\"dataframe\">\n",
       "  <thead>\n",
       "    <tr style=\"text-align: right;\">\n",
       "      <th></th>\n",
       "      <th>news_sentiment</th>\n",
       "    </tr>\n",
       "    <tr>\n",
       "      <th>Date</th>\n",
       "      <th></th>\n",
       "    </tr>\n",
       "  </thead>\n",
       "  <tbody>\n",
       "    <tr>\n",
       "      <th>2019-12-18</th>\n",
       "      <td>0.999370</td>\n",
       "    </tr>\n",
       "    <tr>\n",
       "      <th>2019-12-26</th>\n",
       "      <td>0.974359</td>\n",
       "    </tr>\n",
       "  </tbody>\n",
       "</table>\n",
       "</div>"
      ],
      "text/plain": [
       "            news_sentiment\n",
       "Date                      \n",
       "2019-12-18        0.999370\n",
       "2019-12-26        0.974359"
      ]
     },
     "execution_count": 68,
     "metadata": {},
     "output_type": "execute_result"
    }
   ],
   "source": [
    "daily_avg_news.tail(2)"
   ]
  },
  {
   "cell_type": "code",
   "execution_count": 69,
   "id": "5f645fad-d240-437e-8596-0f9e36d7691a",
   "metadata": {},
   "outputs": [],
   "source": [
    "daily_avg_news.to_csv(\"Datasets/finbert_news_score.csv\")"
   ]
  }
 ],
 "metadata": {
  "kernelspec": {
   "display_name": "Python [conda env:base] *",
   "language": "python",
   "name": "conda-base-py"
  },
  "language_info": {
   "codemirror_mode": {
    "name": "ipython",
    "version": 3
   },
   "file_extension": ".py",
   "mimetype": "text/x-python",
   "name": "python",
   "nbconvert_exporter": "python",
   "pygments_lexer": "ipython3",
   "version": "3.13.5"
  }
 },
 "nbformat": 4,
 "nbformat_minor": 5
}
